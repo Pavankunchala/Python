{
 "cells": [
  {
   "cell_type": "code",
   "execution_count": 8,
   "metadata": {},
   "outputs": [
    {
     "data": {
      "text/plain": [
       "True"
      ]
     },
     "execution_count": 8,
     "metadata": {},
     "output_type": "execute_result"
    }
   ],
   "source": [
    "#Linear Searching\n",
    "def search(list,n): \n",
    "\n",
    "    for i in range(len(list)): \n",
    "        if list[i] == n: \n",
    "            return True\n",
    "    return False\n",
    "\n",
    "\n",
    "pi = [12,134,12324,123,1234,143,152,'Richard','Wither','Bloom','Glutton']\n",
    "\n",
    "n = 'Glutton'\n",
    "search(pi,n)\n"
   ]
  },
  {
   "cell_type": "code",
   "execution_count": null,
   "metadata": {},
   "outputs": [],
   "source": [
    "a = [10,20,30,40,50]\n",
    "beg = 0\n",
    "end len(a)\n",
    "n = input(\"enter the number\")\n"
   ]
  }
 ],
 "metadata": {
  "kernelspec": {
   "display_name": "Python 3",
   "language": "python",
   "name": "python3"
  },
  "language_info": {
   "codemirror_mode": {
    "name": "ipython",
    "version": 3
   },
   "file_extension": ".py",
   "mimetype": "text/x-python",
   "name": "python",
   "nbconvert_exporter": "python",
   "pygments_lexer": "ipython3",
   "version": "3.7.3"
  }
 },
 "nbformat": 4,
 "nbformat_minor": 2
}
