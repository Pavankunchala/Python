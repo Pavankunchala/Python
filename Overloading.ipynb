{
 "cells": [
  {
   "cell_type": "markdown",
   "metadata": {},
   "source": [
    "Two types of overloading function overloading \n",
    "\n",
    "directy function overloading is not feasible in pyth"
   ]
  },
  {
   "cell_type": "code",
   "execution_count": 14,
   "metadata": {},
   "outputs": [
    {
     "name": "stdout",
     "output_type": "stream",
     "text": [
      "30\n"
     ]
    }
   ],
   "source": [
    "# function overloading\n",
    "\n",
    "\n",
    "def abc(a,*args):\n",
    "    if a =='int':\n",
    "        r = 0\n",
    "    elif a =='str':\n",
    "        r = ''\n",
    "    for i in args:\n",
    "        r+=i\n",
    "    print(r)\n",
    "abc('int',10,20)"
   ]
  },
  {
   "cell_type": "code",
   "execution_count": 17,
   "metadata": {},
   "outputs": [
    {
     "name": "stdout",
     "output_type": "stream",
     "text": [
      "(6, 9)\n",
      "2\n"
     ]
    }
   ],
   "source": [
    "class vector:\n",
    "    def __init__(s,a,b):\n",
    "        s.a = a \n",
    "        s.b = b\n",
    "    def __add__(s,o):\n",
    "        return(s.a + o.a,s.b +o.b)\n",
    "    \n",
    "v1 = vector(2,4)\n",
    "v2 = vector(4,5)\n",
    "v3 = v1 + v2\n",
    "print(v3)\n",
    "print(v1.a)\n",
    "        "
   ]
  },
  {
   "cell_type": "code",
   "execution_count": null,
   "metadata": {},
   "outputs": [],
   "source": []
  }
 ],
 "metadata": {
  "kernelspec": {
   "display_name": "Python 3",
   "language": "python",
   "name": "python3"
  },
  "language_info": {
   "codemirror_mode": {
    "name": "ipython",
    "version": 3
   },
   "file_extension": ".py",
   "mimetype": "text/x-python",
   "name": "python",
   "nbconvert_exporter": "python",
   "pygments_lexer": "ipython3",
   "version": "3.7.3"
  }
 },
 "nbformat": 4,
 "nbformat_minor": 2
}
