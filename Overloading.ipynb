{
 "cells": [
  {
   "cell_type": "markdown",
   "metadata": {},
   "source": [
    "Two types of overloading function overloading \n",
    "\n",
    "directy function overloading is not feasible in pyth\n",
    "\n",
    "# Improtant "
   ]
  },
  {
   "cell_type": "code",
   "execution_count": 14,
   "metadata": {},
   "outputs": [
    {
     "name": "stdout",
     "output_type": "stream",
     "text": [
      "30\n"
     ]
    }
   ],
   "source": [
    "# function overloading\n",
    "\n",
    "\n",
    "def abc(a,*args):\n",
    "    if a =='int':\n",
    "        r = 0\n",
    "    elif a =='str':\n",
    "        r = ''\n",
    "    for i in args:\n",
    "        r+=i\n",
    "    print(r)\n",
    "abc('int',10,20)"
   ]
  },
  {
   "cell_type": "code",
   "execution_count": 21,
   "metadata": {},
   "outputs": [
    {
     "name": "stdout",
     "output_type": "stream",
     "text": [
      "(6, 9)\n",
      "2\n"
     ]
    }
   ],
   "source": [
    "class vector:\n",
    "    def __init__(s,a,b):\n",
    "        s.a = a \n",
    "        s.b = b\n",
    "    def __add__(s,o):\n",
    "        return(s.a + o.a,s.b +o.b)\n",
    "    \n",
    "v1 = vector(2,4)\n",
    "v2 = vector(4,5)\n",
    "v3 = v1 + v2\n",
    "print(v3)\n",
    "print(v1.a)\n",
    "        "
   ]
  },
  {
   "cell_type": "markdown",
   "metadata": {},
   "source": [
    "write a program which overloads multiplaction operatioer to multiply 3 three dimension vectors"
   ]
  },
  {
   "cell_type": "code",
   "execution_count": 30,
   "metadata": {},
   "outputs": [
    {
     "name": "stdout",
     "output_type": "stream",
     "text": [
      "4,12,24\n"
     ]
    }
   ],
   "source": [
    "class Sector:\n",
    "    def __init__(s,a,b,c):\n",
    "        s.a = a\n",
    "        s.b = b \n",
    "        s.c = c\n",
    "    def __mul__(s,o):\n",
    "        return Sector(s.a*o.a,s.b*o.b,s.c*o.c)\n",
    "    \n",
    "    def __str__(s):\n",
    "        return \"%d,%d,%d\" %(s.a,s.b,s.c) \n",
    "s1 = Sector(2,3,4)\n",
    "s2 = Sector(1,2,3)\n",
    "s3 = Sector(2,2,2)\n",
    "s4 = s1*s2*s3\n",
    "print(s4)"
   ]
  },
  {
   "cell_type": "markdown",
   "metadata": {},
   "source": [
    "What is overriding , \n",
    "\n",
    "explain the concept of superfunction with the help of example"
   ]
  },
  {
   "cell_type": "code",
   "execution_count": 33,
   "metadata": {},
   "outputs": [
    {
     "name": "stdout",
     "output_type": "stream",
     "text": [
      "Hello from child\n",
      "hello From Parent\n"
     ]
    }
   ],
   "source": [
    "class parent:\n",
    "    def abc(s):\n",
    "        print(\"hello From Parent\")\n",
    "class child(parent):\n",
    "    def abc(s):\n",
    "        print(\"Hello from child\")\n",
    "        parent.abc(s)\n",
    "#         super(child,s).abc()\n",
    "\n",
    "        \n",
    "c1 = child()\n",
    "c1.abc()\n",
    "  "
   ]
  },
  {
   "cell_type": "code",
   "execution_count": 35,
   "metadata": {},
   "outputs": [],
   "source": [
    "class A:\n",
    "    def abc(s):\n",
    "        print(\"A\")\n",
    "        \n",
    "class B(A):\n",
    "    def abc(s):\n",
    "        print(\"B\")\n",
    "        super(B,s).abc()\n",
    "\n",
    "class C(A):\n",
    "    def abc(s):\n",
    "        print(\"C\")\n",
    "        \n",
    "class D(B,C):\n",
    "    def abc(s):\n",
    "        print(\"D\")\n",
    "        super(D,s).abc()\n",
    "\n",
    "d1 = D()\n",
    "d1.abc()"
   ]
  },
  {
   "cell_type": "markdown",
   "metadata": {},
   "source": [
    "Nothing is truly private in python"
   ]
  },
  {
   "cell_type": "code",
   "execution_count": null,
   "metadata": {},
   "outputs": [],
   "source": [
    "#Create a class some common prop and funcamlity and can be accessed in car , byke and cycle"
   ]
  },
  {
   "cell_type": "code",
   "execution_count": 36,
   "metadata": {},
   "outputs": [
    {
     "name": "stdout",
     "output_type": "stream",
     "text": [
      "Which kind of engine it hasc4 \n",
      "What is it used fortransportation\n",
      "Enter the parking fare for the vehicle per/hour345\n",
      "Enter the cost of vehiclex150000\n",
      "Which color of the byke you preferwhite\n",
      "Which company byke do you haveroyal Enfield\n"
     ]
    }
   ],
   "source": [
    "class Vehicle:\n",
    "    def engine(self):\n",
    "      \n",
    "        a = input('Which kind of engine it has: ')\n",
    "        \n",
    "    def usedFor(self):\n",
    "       \n",
    "        b = input(\"What is it used for: \")\n",
    "        \n",
    "    def fare(self):\n",
    "        c = int(input('Enter the parking fare for the vehicle per/hour: '))\n",
    "        \n",
    "    def Cost(self):\n",
    "        d = int(input(\"Enter the cost of vehiclex: \"))\n",
    "        \n",
    "class Byke(Vehicle):\n",
    "    def color(self):\n",
    "        a = input(\"Which color of the byke you prefer: \")\n",
    "    def company(self):\n",
    "        b = input('Which company byke do you have  : ')\n",
    "        \n",
    "class Car(Vehicle):\n",
    "    def gears(self):\n",
    "        a int(input(\"No of gears we have\"))\n",
    "        \n",
    "        \n",
    "b = Byke()\n",
    "b.engine()\n",
    "b.usedFor()\n",
    "b.fare()\n",
    "b.Cost()\n",
    "b.color()\n",
    "b.company()"
   ]
  },
  {
   "cell_type": "code",
   "execution_count": null,
   "metadata": {},
   "outputs": [],
   "source": []
  }
 ],
 "metadata": {
  "kernelspec": {
   "display_name": "Python 3",
   "language": "python",
   "name": "python3"
  },
  "language_info": {
   "codemirror_mode": {
    "name": "ipython",
    "version": 3
   },
   "file_extension": ".py",
   "mimetype": "text/x-python",
   "name": "python",
   "nbconvert_exporter": "python",
   "pygments_lexer": "ipython3",
   "version": "3.7.3"
  }
 },
 "nbformat": 4,
 "nbformat_minor": 2
}
