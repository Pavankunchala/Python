{
 "cells": [
  {
   "cell_type": "code",
   "execution_count": 2,
   "metadata": {},
   "outputs": [
    {
     "name": "stdout",
     "output_type": "stream",
     "text": [
      "Please Enter Length of any side of an Equilateral Triangle: 23\n",
      "\n",
      " Area of Equilateral Triangle = 229.06\n",
      " Perimeter of Equilateral Triangle = 69.00\n",
      " Semi Perimeter of Equilateral Triangle = 34.50\n",
      " Altitude of Equilateral Triangle = 19.92\n"
     ]
    }
   ],
   "source": [
    "# Python Program to find Area of an Equilateral Triangle\n",
    "import math\n",
    "\n",
    "side = float(input('Please Enter Length of any side of an Equilateral Triangle: '))\n",
    "\n",
    "# calculate the area\n",
    "Area = (math.sqrt(3)/ 4)*(side * side)\n",
    "\n",
    "# calculate the Perimeter\n",
    "Perimeter = 3 * side\n",
    "\n",
    "# calculate the semi-perimeter\n",
    "Semi = Perimeter / 2\n",
    "\n",
    "# calculate the Altitude\n",
    "Altitude = (math.sqrt(3)/2)* side\n",
    "\n",
    "print(\"\\n Area of Equilateral Triangle = %.2f\" %Area)\n",
    "print(\" Perimeter of Equilateral Triangle = %.2f\" %Perimeter)\n",
    "print(\" Semi Perimeter of Equilateral Triangle = %.2f\" %Semi)\n",
    "print(\" Altitude of Equilateral Triangle = %.2f\" %Altitude)"
   ]
  },
  {
   "cell_type": "code",
   "execution_count": 5,
   "metadata": {},
   "outputs": [
    {
     "name": "stdout",
     "output_type": "stream",
     "text": [
      "15.0\n",
      "30.0\n"
     ]
    }
   ],
   "source": [
    "class triangle:\n",
    "    def __init__(s,a,b,c):\n",
    "        s.a = a \n",
    "        s.b = b \n",
    "        s.c = c\n",
    "    def area(s):\n",
    "        m = (s.a+s.b + s.c)/2\n",
    "        print(m)\n",
    "        s.ar = (m*(m-s.a)*(m-s.b)*(m-s.c))**.5\n",
    "        print(s.ar)\n",
    "        \n",
    "a1 = triangle(5,12,13)\n",
    "a1.area()    \n",
    "   \n",
    "    "
   ]
  },
  {
   "cell_type": "code",
   "execution_count": 3,
   "metadata": {},
   "outputs": [
    {
     "name": "stdout",
     "output_type": "stream",
     "text": [
      "name is  abc age is  12 no of students 3\n",
      "0\n",
      "True\n",
      "xyz\n",
      "False\n",
      "Object deleted sucesfully\n"
     ]
    }
   ],
   "source": [
    "class student:\n",
    "    s_count = 0\n",
    "    def __init__(s,n,a):\n",
    "        s.name = n\n",
    "        s.age = a\n",
    "        student.s_count +=1\n",
    "    def display(s):\n",
    "        print('name is ', s.name, 'age is ', s.age, 'no of students', student.s_count)\n",
    "        \n",
    "    def __del__(s):\n",
    "        print(\"Object deleted sucesfully\")\n",
    "        \n",
    "s1 = student('abc',12)\n",
    "s2 = student('ab',13)\n",
    "s3 =student('a',14)\n",
    "s1.display()\n",
    "print(getattr(s1,'nam',0))\n",
    "print(hasattr(s1,'name'))\n",
    "setattr(s1,'section','xyz')\n",
    "print(getattr(s1,'section',0))\n",
    "delattr(s1,'name')\n",
    "print(hasattr(s1,'name'))\n",
    "del s1"
   ]
  },
  {
   "cell_type": "code",
   "execution_count": 4,
   "metadata": {},
   "outputs": [
    {
     "name": "stdout",
     "output_type": "stream",
     "text": [
      "Employee.__doc__ None\n",
      "Employe__name__ Employee\n",
      "Employee__Module__ __main__\n",
      "Employee__bases_- (<class 'object'>,)\n",
      "Employee__dict__ {'__module__': '__main__', 'empCount': 0, '__init__': <function Employee.__init__ at 0x108b0fbf8>, 'displayCount': <function Employee.displayCount at 0x108b0f400>, 'displayEmployees': <function Employee.displayEmployees at 0x108b0fc80>, '__dict__': <attribute '__dict__' of 'Employee' objects>, '__weakref__': <attribute '__weakref__' of 'Employee' objects>, '__doc__': None}\n"
     ]
    }
   ],
   "source": [
    "class Employee:\n",
    "    #common base class for all employees\n",
    "    \n",
    "    empCount = 0\n",
    "\n",
    "    def __init__(self,name,salary):\n",
    "        self.name = name\n",
    "        self.salary  = salary\n",
    "        Employee.empCount +=1\n",
    "        \n",
    "    def displayCount(self):\n",
    "        print(\"TotalEmployee %d\" % Employee.empCount)\n",
    "        \n",
    "    def displayEmployees(self):\n",
    "        print(\"Name:\" , self.name,'salary:',self.salary)\n",
    "        \n",
    "        \n",
    "print(\"Employee.__doc__\",Employee.__doc__)\n",
    "print(\"Employe__name__\",Employee.__name__)\n",
    "print(\"Employee__Module__\",Employee.__module__)\n",
    "print(\"Employee__bases_-\",Employee.__bases__)\n",
    "print(\"Employee__dict__\",Employee.__dict__)\n",
    "\n",
    "\n"
   ]
  },
  {
   "cell_type": "code",
   "execution_count": null,
   "metadata": {},
   "outputs": [],
   "source": []
  }
 ],
 "metadata": {
  "kernelspec": {
   "display_name": "Python 3",
   "language": "python",
   "name": "python3"
  },
  "language_info": {
   "codemirror_mode": {
    "name": "ipython",
    "version": 3
   },
   "file_extension": ".py",
   "mimetype": "text/x-python",
   "name": "python",
   "nbconvert_exporter": "python",
   "pygments_lexer": "ipython3",
   "version": "3.7.3"
  }
 },
 "nbformat": 4,
 "nbformat_minor": 2
}
