{
 "cells": [
  {
   "cell_type": "code",
   "execution_count": 2,
   "metadata": {},
   "outputs": [
    {
     "name": "stdout",
     "output_type": "stream",
     "text": [
      "Please Enter Length of any side of an Equilateral Triangle: 23\n",
      "\n",
      " Area of Equilateral Triangle = 229.06\n",
      " Perimeter of Equilateral Triangle = 69.00\n",
      " Semi Perimeter of Equilateral Triangle = 34.50\n",
      " Altitude of Equilateral Triangle = 19.92\n"
     ]
    }
   ],
   "source": [
    "# Python Program to find Area of an Equilateral Triangle\n",
    "import math\n",
    "\n",
    "side = float(input('Please Enter Length of any side of an Equilateral Triangle: '))\n",
    "\n",
    "# calculate the area\n",
    "Area = (math.sqrt(3)/ 4)*(side * side)\n",
    "\n",
    "# calculate the Perimeter\n",
    "Perimeter = 3 * side\n",
    "\n",
    "# calculate the semi-perimeter\n",
    "Semi = Perimeter / 2\n",
    "\n",
    "# calculate the Altitude\n",
    "Altitude = (math.sqrt(3)/2)* side\n",
    "\n",
    "print(\"\\n Area of Equilateral Triangle = %.2f\" %Area)\n",
    "print(\" Perimeter of Equilateral Triangle = %.2f\" %Perimeter)\n",
    "print(\" Semi Perimeter of Equilateral Triangle = %.2f\" %Semi)\n",
    "print(\" Altitude of Equilateral Triangle = %.2f\" %Altitude)"
   ]
  },
  {
   "cell_type": "code",
   "execution_count": 5,
   "metadata": {},
   "outputs": [
    {
     "name": "stdout",
     "output_type": "stream",
     "text": [
      "15.0\n",
      "30.0\n"
     ]
    }
   ],
   "source": [
    "class triangle:\n",
    "    def __init__(s,a,b,c):\n",
    "        s.a = a \n",
    "        s.b = b \n",
    "        s.c = c\n",
    "    def area(s):\n",
    "        m = (s.a+s.b + s.c)/2\n",
    "        print(m)\n",
    "        s.ar = (m*(m-s.a)*(m-s.b)*(m-s.c))**.5\n",
    "        print(s.ar)\n",
    "        \n",
    "a1 = triangle(5,12,13)\n",
    "a1.area()    \n",
    "   \n",
    "    "
   ]
  },
  {
   "cell_type": "code",
   "execution_count": null,
   "metadata": {},
   "outputs": [],
   "source": []
  }
 ],
 "metadata": {
  "kernelspec": {
   "display_name": "Python 3",
   "language": "python",
   "name": "python3"
  },
  "language_info": {
   "codemirror_mode": {
    "name": "ipython",
    "version": 3
   },
   "file_extension": ".py",
   "mimetype": "text/x-python",
   "name": "python",
   "nbconvert_exporter": "python",
   "pygments_lexer": "ipython3",
   "version": "3.7.3"
  }
 },
 "nbformat": 4,
 "nbformat_minor": 2
}
