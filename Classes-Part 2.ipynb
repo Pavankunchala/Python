{
 "cells": [
  {
   "cell_type": "markdown",
   "metadata": {},
   "source": [
    "\n",
    "perfroms the following functionalits \n",
    "1. withdrawl\n",
    "2. deposit\n",
    "3 . balance Enquiry\n",
    "4. Mini statement"
   ]
  },
  {
   "cell_type": "code",
   "execution_count": 6,
   "metadata": {},
   "outputs": [
    {
     "name": "stdout",
     "output_type": "stream",
     "text": [
      "Hello! welcome to The Atm Machine\n",
      "Enter the amount to be deposited15000\n",
      "\n",
      " Amount Deposited:  15000.0\n",
      "enter the amount To be withDrawn7500\n",
      "You withdrew 7500.0\n",
      "\n",
      " The Balance is : 7500.0\n"
     ]
    }
   ],
   "source": [
    "class ATM:\n",
    "    def __init__(self):\n",
    "        self.balance = 0\n",
    "        print(\"Hello! welcome to The Atm Machine\")\n",
    "        \n",
    "    def deposit(self):\n",
    "        amount = float(input(\"Enter the amount to be deposited\"))\n",
    "        self.balance += amount\n",
    "        print(\"\\n Amount Deposited: \",  amount)\n",
    "        \n",
    "    def withDraw(self):\n",
    "        amount = float(input(\"enter the amount To be withDrawn\"))\n",
    "        if self.balance >= amount:\n",
    "            self.balance -= amount\n",
    "            print(\"You withdrew\", amount)\n",
    "        else:\n",
    "            print(\"Insufficent Balance\")\n",
    "            \n",
    "    def display(self):\n",
    "        print('\\n The Balance is :', self.balance)\n",
    "        \n",
    "    def Transactions(self):\n",
    "        \n",
    "        \n",
    "s = ATM()\n",
    "\n",
    "s.deposit()\n",
    "s.withDraw()\n",
    "s.display()\n",
    "        \n",
    "        \n",
    "        \n",
    "        "
   ]
  },
  {
   "cell_type": "code",
   "execution_count": null,
   "metadata": {},
   "outputs": [],
   "source": []
  },
  {
   "cell_type": "code",
   "execution_count": null,
   "metadata": {},
   "outputs": [],
   "source": []
  }
 ],
 "metadata": {
  "kernelspec": {
   "display_name": "Python 3",
   "language": "python",
   "name": "python3"
  },
  "language_info": {
   "codemirror_mode": {
    "name": "ipython",
    "version": 3
   },
   "file_extension": ".py",
   "mimetype": "text/x-python",
   "name": "python",
   "nbconvert_exporter": "python",
   "pygments_lexer": "ipython3",
   "version": "3.7.3"
  }
 },
 "nbformat": 4,
 "nbformat_minor": 2
}
