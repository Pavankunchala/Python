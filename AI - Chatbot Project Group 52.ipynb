{
 "cells": [
  {
   "cell_type": "markdown",
   "metadata": {},
   "source": [
    " Name : Pavan Kumar Reddy Kunchala\n",
    " \n",
    " Reg No : 11804812\n",
    " \n",
    " Roll no: 44\n",
    " \n",
    " Section: K18TM\n",
    " \n",
    " Group - 2\n",
    " \n",
    " Project no - 52\n",
    " \n"
   ]
  },
  {
   "cell_type": "code",
   "execution_count": 1,
   "metadata": {},
   "outputs": [
    {
     "name": "stdout",
     "output_type": "stream",
     "text": [
      "Requirement already satisfied: NLTK in /Users/pavankunchala/opt/anaconda3/lib/python3.7/site-packages (3.4.5)\n",
      "Requirement already satisfied: six in /Users/pavankunchala/opt/anaconda3/lib/python3.7/site-packages (from NLTK) (1.14.0)\n",
      "Note: you may need to restart the kernel to use updated packages.\n"
     ]
    }
   ],
   "source": [
    "pip install NLTK\n"
   ]
  },
  {
   "cell_type": "code",
   "execution_count": 2,
   "metadata": {},
   "outputs": [
    {
     "name": "stdout",
     "output_type": "stream",
     "text": [
      "Requirement already satisfied: newspaper3k in /Users/pavankunchala/opt/anaconda3/lib/python3.7/site-packages (0.2.8)\n",
      "Requirement already satisfied: feedfinder2>=0.0.4 in /Users/pavankunchala/opt/anaconda3/lib/python3.7/site-packages (from newspaper3k) (0.0.4)\n",
      "Requirement already satisfied: Pillow>=3.3.0 in /Users/pavankunchala/opt/anaconda3/lib/python3.7/site-packages (from newspaper3k) (7.0.0)\n",
      "Requirement already satisfied: lxml>=3.6.0 in /Users/pavankunchala/opt/anaconda3/lib/python3.7/site-packages (from newspaper3k) (4.5.0)\n",
      "Requirement already satisfied: feedparser>=5.2.1 in /Users/pavankunchala/opt/anaconda3/lib/python3.7/site-packages (from newspaper3k) (5.2.1)\n",
      "Requirement already satisfied: tldextract>=2.0.1 in /Users/pavankunchala/opt/anaconda3/lib/python3.7/site-packages (from newspaper3k) (2.2.2)\n",
      "Requirement already satisfied: python-dateutil>=2.5.3 in /Users/pavankunchala/opt/anaconda3/lib/python3.7/site-packages (from newspaper3k) (2.8.1)\n",
      "Requirement already satisfied: cssselect>=0.9.2 in /Users/pavankunchala/opt/anaconda3/lib/python3.7/site-packages (from newspaper3k) (1.1.0)\n",
      "Requirement already satisfied: beautifulsoup4>=4.4.1 in /Users/pavankunchala/opt/anaconda3/lib/python3.7/site-packages (from newspaper3k) (4.8.2)\n",
      "Requirement already satisfied: PyYAML>=3.11 in /Users/pavankunchala/opt/anaconda3/lib/python3.7/site-packages (from newspaper3k) (5.3)\n",
      "Requirement already satisfied: nltk>=3.2.1 in /Users/pavankunchala/opt/anaconda3/lib/python3.7/site-packages (from newspaper3k) (3.4.5)\n",
      "Requirement already satisfied: tinysegmenter==0.3 in /Users/pavankunchala/opt/anaconda3/lib/python3.7/site-packages (from newspaper3k) (0.3)\n",
      "Requirement already satisfied: jieba3k>=0.35.1 in /Users/pavankunchala/opt/anaconda3/lib/python3.7/site-packages (from newspaper3k) (0.35.1)\n",
      "Requirement already satisfied: requests>=2.10.0 in /Users/pavankunchala/opt/anaconda3/lib/python3.7/site-packages (from newspaper3k) (2.22.0)\n",
      "Requirement already satisfied: six in /Users/pavankunchala/opt/anaconda3/lib/python3.7/site-packages (from feedfinder2>=0.0.4->newspaper3k) (1.14.0)\n",
      "Requirement already satisfied: idna in /Users/pavankunchala/opt/anaconda3/lib/python3.7/site-packages (from tldextract>=2.0.1->newspaper3k) (2.8)\n",
      "Requirement already satisfied: setuptools in /Users/pavankunchala/opt/anaconda3/lib/python3.7/site-packages (from tldextract>=2.0.1->newspaper3k) (46.0.0.post20200309)\n",
      "Requirement already satisfied: requests-file>=1.4 in /Users/pavankunchala/opt/anaconda3/lib/python3.7/site-packages (from tldextract>=2.0.1->newspaper3k) (1.4.3)\n",
      "Requirement already satisfied: soupsieve>=1.2 in /Users/pavankunchala/opt/anaconda3/lib/python3.7/site-packages (from beautifulsoup4>=4.4.1->newspaper3k) (1.9.5)\n",
      "Requirement already satisfied: chardet<3.1.0,>=3.0.2 in /Users/pavankunchala/opt/anaconda3/lib/python3.7/site-packages (from requests>=2.10.0->newspaper3k) (3.0.4)\n",
      "Requirement already satisfied: urllib3!=1.25.0,!=1.25.1,<1.26,>=1.21.1 in /Users/pavankunchala/opt/anaconda3/lib/python3.7/site-packages (from requests>=2.10.0->newspaper3k) (1.25.8)\n",
      "Requirement already satisfied: certifi>=2017.4.17 in /Users/pavankunchala/opt/anaconda3/lib/python3.7/site-packages (from requests>=2.10.0->newspaper3k) (2019.11.28)\n",
      "Note: you may need to restart the kernel to use updated packages.\n"
     ]
    }
   ],
   "source": [
    "pip install newspaper3k\n"
   ]
  },
  {
   "cell_type": "code",
   "execution_count": 3,
   "metadata": {},
   "outputs": [],
   "source": [
    "from newspaper import Article\n",
    "import random\n",
    "import string\n",
    "from sklearn.feature_extraction.text import TfidfVectorizer\n",
    "from sklearn.metrics.pairwise import cosine_similarity\n",
    "import nltk \n",
    "import numpy as np\n",
    "import warnings"
   ]
  },
  {
   "cell_type": "code",
   "execution_count": 4,
   "metadata": {},
   "outputs": [],
   "source": [
    "#ignoring warnings\n",
    "warnings.filterwarnings('ignore')"
   ]
  },
  {
   "cell_type": "code",
   "execution_count": 5,
   "metadata": {},
   "outputs": [
    {
     "data": {
      "text/plain": [
       "True"
      ]
     },
     "execution_count": 5,
     "metadata": {},
     "output_type": "execute_result"
    }
   ],
   "source": [
    "nltk.download('punkt',quiet=True)\n",
    "nltk.download('wordnet',quiet=True)"
   ]
  },
  {
   "cell_type": "code",
   "execution_count": 6,
   "metadata": {
    "scrolled": true
   },
   "outputs": [
    {
     "name": "stdout",
     "output_type": "stream",
     "text": [
      "What's a career path, and why is it an important part of your career development and your professional plans and goals for the future?\n",
      "\n",
      "A career path is composed of a sequence of jobs that make up your career plan. Career paths and career plans may sound like the same thing, but they’re not:\n",
      "\n",
      "A career plan includes short-term or long-term goals leading to an ideal career;\n",
      "\n",
      "A career path specifically includes the jobs that help an individual progress towards his or her goals and objectives.\n",
      "\n",
      "Curious about how a career path works? The first thing to know is that while it includes the jobs you’ll need to hit your ultimate career goal, a career path doesn’t need to follow a straight line. There’s no blueprint or timetable for climbing the career ladder.\n",
      "\n",
      "Your career path will be as individual as you are. You may take a very different route than your colleagues and wind up in the same spot.\n",
      "\n",
      "The important thing to remember is that it's your own. You can take a sabbatical from work, be a stay-at-home parent or caregiver, or even move down the career ladder. There isn't a right or wrong way to grow – or to downsize – your career.\n",
      "\n",
      "What’s Included in a Career Path\n",
      "\n",
      "Career paths traditionally imply vertical growth or advancement to higher-level positions, but they can also entail lateral (sideways) movement within or across industries.﻿﻿ And each path can be slightly different for each person, depending on how long you need to take to reach your goals, or if you change your goals along the way.\n",
      "\n",
      "At the heart of a career path is the fact that you’ll be changing jobs from time to time.\n",
      "\n",
      "The average person changes jobs 10 to 15 times during their career, and sometimes those changes will involve different types of positions in various industries. Some career paths have a few ups and downs and, in fact, some people even plan a move down the career ladder.\n",
      "\n",
      "For example, people who are midlife-career changers may need to go down a level or two from where they were, so they can get the training and experience they need to move back up the ladder.\n",
      "\n",
      "Whichever way a career path takes someone, it’s designed to provide increased satisfaction of a worker's career values and needs by targeting a series of jobs designed to get them to their career goal. Job satisfaction is one important key to a happy and long career.﻿﻿\n",
      "\n",
      "Organizational Career Paths\n",
      "\n",
      "Career paths are sometimes part of the employee development processes within organizations.﻿﻿ In this case, an employee and a supervisor or Human Resources representative discuss the career development of the worker within the context of their organization.\n",
      "\n",
      "This discussion may take place as part of the performance appraisal process and considers the interests, knowledge, and skills of the employee. Additional education, training, or work assignments may be planned as mechanisms to qualify employees for subsequent roles within their career path.\n",
      "\n",
      "In many cases, an individual will develop and actualize a career path without the cooperation of their employer. These workers will engage in the career exploration process independently or with the assistance of a career counselor, mentor, or personal advisor.\n",
      "\n",
      "Examples of Career Paths\n",
      "\n",
      "It can help to review examples of career paths for a variety of different career fields. Keep in mind that some career paths are direct and include specific jobs that move an individual up the career ladder and are typically followed in order.\n",
      "\n",
      "Other career paths are indirect and may involve work in different industries or types of jobs, such as when someone is working on a career change.\n",
      "\n",
      "Administration: Administrative Assistant - Executive Assistant - Office Manager\n",
      "\n",
      "Administrative Assistant - Executive Assistant - Office Manager Advertising: Advertising Account Coordinator - Assistant Account Executive - Account Executive - Major Account Executive\n",
      "\n",
      "Advertising Account Coordinator - Assistant Account Executive - Account Executive - Major Account Executive Communications: Public Relations Assistant - Public Relations Representative - Assistant Director of Public Relations - Director of Communications\n",
      "\n",
      "Public Relations Assistant - Public Relations Representative - Assistant Director of Public Relations - Director of Communications Customer Services / Sales: Customer Service Representative - Inside Salesperson - Outside Salesperson - Major Account Salesperson - Regional Sales Manager\n",
      "\n",
      "Customer Service Representative - Inside Salesperson - Outside Salesperson - Major Account Salesperson - Regional Sales Manager Development: Development Assistant - Annual Giving Officer - Development Associate - Major Gift Officer - Leadership Giving Officer - Associate Director of Leadership Gifts\n",
      "\n",
      "Development Assistant - Annual Giving Officer - Development Associate - Major Gift Officer - Leadership Giving Officer - Associate Director of Leadership Gifts Editorial: Editorial Assistant - Assistant Editor - Associate Editor - Editor - Senior Editor - Editorial Director\n",
      "\n",
      "Editorial Assistant - Assistant Editor - Associate Editor - Editor - Senior Editor - Editorial Director Education: Teacher - Master Teacher - Curriculum Coordinator - Assistant Principal - Principal\n",
      "\n",
      "Teacher - Master Teacher - Curriculum Coordinator - Assistant Principal - Principal Education to Training: Teacher - Insurance Salesperson - Trainer for New Agents\n",
      "\n",
      "Teacher - Insurance Salesperson - Trainer for New Agents Engineering: Junior Engineer - Senior Engineer - Project Manager - Engineering Consultant\n",
      "\n",
      "Junior Engineer - Senior Engineer - Project Manager - Engineering Consultant Entrepreneur: Salesperson - Sales Manager - Business Owner\n",
      "\n",
      "Salesperson - Sales Manager - Business Owner Human Resources: Human Resources Assistant - Interviewer - Benefits Assistant - Benefits Specialist - Assistant Director of Human Resources - Director of Human Resources\n",
      "\n",
      "Human Resources Assistant - Interviewer - Benefits Assistant - Benefits Specialist - Assistant Director of Human Resources - Director of Human Resources Retail: Retail Sales Clerk - Assistant Manager - Department Manager - Store Manager - Regional Manager\n",
      "\n",
      "Retail Sales Clerk - Assistant Manager - Department Manager - Store Manager - Regional Manager Sales to Marketing: Salesperson - MBA - Assistant Brand Manager - Brand Manager - Group Manager - Marketing Director\n",
      "\n",
      "Tips for Finding Your Perfect Career Path\n",
      "\n",
      "Always Be in Learning Mode: Today’s job market moves quickly. To keep up, you need to be prepared to add to your skill set. Not sure which skills are most in-demand in your industry? Take a look at the LinkedIn profiles of your peers – especially those employed in the next job above yours. You’ll learn which hard and soft skills you’ll need to advance.\n",
      "\n",
      "Pay Attention to Industry News: What will your job be like in five years – or ten? No one knows for sure, but if you keep up with the news, you’ll get a sense of the occupational outlook for your job and which employers are likely to remain in the game.\n",
      "\n",
      "Network, Network, Network: Networking isn’t just for job seekers. Connecting with your peers can help you identify whole new directions for your career – even if you’re not interested in job hopping at the moment.\n",
      "\n",
      "Make Plans (But Be Flexible): Don’t hold too tightly to your career plan when developing your career path. Be open to opportunity and keep your ultimate goals in mind. What’s important to you? What do you enjoy about your job and career – and what would you prefer to minimize at your next gig?\n",
      "\n",
      "Be Ready for a Career Shift: Perhaps you're working in a declining industry or simply tired of working at the same old thing for what seems like a long time. It may be time to consider making over your career, and moving in a different direction.\n",
      "\n",
      "Don’t Be Afraid of a Lateral Move: Sometimes, you need to move sideways (or even backward) to get ahead. If a job offers you a chance to develop skills or connections that will be valuable later on, be open to considering a lateral move.\n"
     ]
    }
   ],
   "source": [
    "url = 'https://www.thebalancecareers.com/career-path-definition-with-examples-2059765'\n",
    "artice = Article(url)\n",
    "artice.download()\n",
    "artice.parse()\n",
    "artice.nlp()\n",
    "\n",
    "corpus = artice.text\n",
    "\n",
    "# printing stuff\n",
    "print(corpus)\n"
   ]
  },
  {
   "cell_type": "code",
   "execution_count": null,
   "metadata": {},
   "outputs": [],
   "source": []
  },
  {
   "cell_type": "code",
   "execution_count": 7,
   "metadata": {},
   "outputs": [
    {
     "name": "stdout",
     "output_type": "stream",
     "text": [
      "[\"What's a career path, and why is it an important part of your career development and your professional plans and goals for the future?\", 'A career path is composed of a sequence of jobs that make up your career plan.', 'Career paths and career plans may sound like the same thing, but they’re not:\\n\\nA career plan includes short-term or long-term goals leading to an ideal career;\\n\\nA career path specifically includes the jobs that help an individual progress towards his or her goals and objectives.', 'Curious about how a career path works?', 'The first thing to know is that while it includes the jobs you’ll need to hit your ultimate career goal, a career path doesn’t need to follow a straight line.', 'There’s no blueprint or timetable for climbing the career ladder.', 'Your career path will be as individual as you are.', 'You may take a very different route than your colleagues and wind up in the same spot.', \"The important thing to remember is that it's your own.\", 'You can take a sabbatical from work, be a stay-at-home parent or caregiver, or even move down the career ladder.', \"There isn't a right or wrong way to grow – or to downsize – your career.\", 'What’s Included in a Career Path\\n\\nCareer paths traditionally imply vertical growth or advancement to higher-level positions, but they can also entail lateral (sideways) movement within or across industries.\\ufeff\\ufeff And each path can be slightly different for each person, depending on how long you need to take to reach your goals, or if you change your goals along the way.', 'At the heart of a career path is the fact that you’ll be changing jobs from time to time.', 'The average person changes jobs 10 to 15 times during their career, and sometimes those changes will involve different types of positions in various industries.', 'Some career paths have a few ups and downs and, in fact, some people even plan a move down the career ladder.', 'For example, people who are midlife-career changers may need to go down a level or two from where they were, so they can get the training and experience they need to move back up the ladder.', \"Whichever way a career path takes someone, it’s designed to provide increased satisfaction of a worker's career values and needs by targeting a series of jobs designed to get them to their career goal.\", 'Job satisfaction is one important key to a happy and long career.\\ufeff\\ufeff\\n\\nOrganizational Career Paths\\n\\nCareer paths are sometimes part of the employee development processes within organizations.\\ufeff\\ufeff In this case, an employee and a supervisor or Human Resources representative discuss the career development of the worker within the context of their organization.', 'This discussion may take place as part of the performance appraisal process and considers the interests, knowledge, and skills of the employee.', 'Additional education, training, or work assignments may be planned as mechanisms to qualify employees for subsequent roles within their career path.', 'In many cases, an individual will develop and actualize a career path without the cooperation of their employer.', 'These workers will engage in the career exploration process independently or with the assistance of a career counselor, mentor, or personal advisor.', 'Examples of Career Paths\\n\\nIt can help to review examples of career paths for a variety of different career fields.', 'Keep in mind that some career paths are direct and include specific jobs that move an individual up the career ladder and are typically followed in order.', 'Other career paths are indirect and may involve work in different industries or types of jobs, such as when someone is working on a career change.', 'Administration: Administrative Assistant - Executive Assistant - Office Manager\\n\\nAdministrative Assistant - Executive Assistant - Office Manager Advertising: Advertising Account Coordinator - Assistant Account Executive - Account Executive - Major Account Executive\\n\\nAdvertising Account Coordinator - Assistant Account Executive - Account Executive - Major Account Executive Communications: Public Relations Assistant - Public Relations Representative - Assistant Director of Public Relations - Director of Communications\\n\\nPublic Relations Assistant - Public Relations Representative - Assistant Director of Public Relations - Director of Communications Customer Services / Sales: Customer Service Representative - Inside Salesperson - Outside Salesperson - Major Account Salesperson - Regional Sales Manager\\n\\nCustomer Service Representative - Inside Salesperson - Outside Salesperson - Major Account Salesperson - Regional Sales Manager Development: Development Assistant - Annual Giving Officer - Development Associate - Major Gift Officer - Leadership Giving Officer - Associate Director of Leadership Gifts\\n\\nDevelopment Assistant - Annual Giving Officer - Development Associate - Major Gift Officer - Leadership Giving Officer - Associate Director of Leadership Gifts Editorial: Editorial Assistant - Assistant Editor - Associate Editor - Editor - Senior Editor - Editorial Director\\n\\nEditorial Assistant - Assistant Editor - Associate Editor - Editor - Senior Editor - Editorial Director Education: Teacher - Master Teacher - Curriculum Coordinator - Assistant Principal - Principal\\n\\nTeacher - Master Teacher - Curriculum Coordinator - Assistant Principal - Principal Education to Training: Teacher - Insurance Salesperson - Trainer for New Agents\\n\\nTeacher - Insurance Salesperson - Trainer for New Agents Engineering: Junior Engineer - Senior Engineer - Project Manager - Engineering Consultant\\n\\nJunior Engineer - Senior Engineer - Project Manager - Engineering Consultant Entrepreneur: Salesperson - Sales Manager - Business Owner\\n\\nSalesperson - Sales Manager - Business Owner Human Resources: Human Resources Assistant - Interviewer - Benefits Assistant - Benefits Specialist - Assistant Director of Human Resources - Director of Human Resources\\n\\nHuman Resources Assistant - Interviewer - Benefits Assistant - Benefits Specialist - Assistant Director of Human Resources - Director of Human Resources Retail: Retail Sales Clerk - Assistant Manager - Department Manager - Store Manager - Regional Manager\\n\\nRetail Sales Clerk - Assistant Manager - Department Manager - Store Manager - Regional Manager Sales to Marketing: Salesperson - MBA - Assistant Brand Manager - Brand Manager - Group Manager - Marketing Director\\n\\nTips for Finding Your Perfect Career Path\\n\\nAlways Be in Learning Mode: Today’s job market moves quickly.', 'To keep up, you need to be prepared to add to your skill set.', 'Not sure which skills are most in-demand in your industry?', 'Take a look at the LinkedIn profiles of your peers – especially those employed in the next job above yours.', 'You’ll learn which hard and soft skills you’ll need to advance.', 'Pay Attention to Industry News: What will your job be like in five years – or ten?', 'No one knows for sure, but if you keep up with the news, you’ll get a sense of the occupational outlook for your job and which employers are likely to remain in the game.', 'Network, Network, Network: Networking isn’t just for job seekers.', 'Connecting with your peers can help you identify whole new directions for your career – even if you’re not interested in job hopping at the moment.', 'Make Plans (But Be Flexible): Don’t hold too tightly to your career plan when developing your career path.', 'Be open to opportunity and keep your ultimate goals in mind.', 'What’s important to you?', 'What do you enjoy about your job and career – and what would you prefer to minimize at your next gig?', \"Be Ready for a Career Shift: Perhaps you're working in a declining industry or simply tired of working at the same old thing for what seems like a long time.\", 'It may be time to consider making over your career, and moving in a different direction.', 'Don’t Be Afraid of a Lateral Move: Sometimes, you need to move sideways (or even backward) to get ahead.', 'If a job offers you a chance to develop skills or connections that will be valuable later on, be open to considering a lateral move.']\n"
     ]
    }
   ],
   "source": [
    "#tokenization\n",
    "\n",
    "text = corpus\n",
    "sent_tokens = nltk.sent_tokenize(text)\n",
    "print(sent_tokens)"
   ]
  },
  {
   "cell_type": "code",
   "execution_count": 8,
   "metadata": {},
   "outputs": [
    {
     "name": "stdout",
     "output_type": "stream",
     "text": [
      "!\"#$%&'()*+,-./:;<=>?@[\\]^_`{|}~\n",
      "{33: None, 34: None, 35: None, 36: None, 37: None, 38: None, 39: None, 40: None, 41: None, 42: None, 43: None, 44: None, 45: None, 46: None, 47: None, 58: None, 59: None, 60: None, 61: None, 62: None, 63: None, 64: None, 91: None, 92: None, 93: None, 94: None, 95: None, 96: None, 123: None, 124: None, 125: None, 126: None}\n"
     ]
    }
   ],
   "source": [
    "#removing punchit\n",
    "remove_punct = dict( (ord(punct),None)for punct in string.punctuation)\n",
    "\n",
    "print(string.punctuation)\n",
    "\n",
    "#printngn the dict\n",
    "print(remove_punct)"
   ]
  },
  {
   "cell_type": "code",
   "execution_count": 9,
   "metadata": {
    "scrolled": true
   },
   "outputs": [
    {
     "name": "stdout",
     "output_type": "stream",
     "text": [
      "['whats', 'a', 'career', 'path', 'and', 'why', 'is', 'it', 'an', 'important', 'part', 'of', 'your', 'career', 'development', 'and', 'your', 'professional', 'plans', 'and', 'goals', 'for', 'the', 'future', 'a', 'career', 'path', 'is', 'composed', 'of', 'a', 'sequence', 'of', 'jobs', 'that', 'make', 'up', 'your', 'career', 'plan', 'career', 'paths', 'and', 'career', 'plans', 'may', 'sound', 'like', 'the', 'same', 'thing', 'but', 'they', '’', 're', 'not', 'a', 'career', 'plan', 'includes', 'shortterm', 'or', 'longterm', 'goals', 'leading', 'to', 'an', 'ideal', 'career', 'a', 'career', 'path', 'specifically', 'includes', 'the', 'jobs', 'that', 'help', 'an', 'individual', 'progress', 'towards', 'his', 'or', 'her', 'goals', 'and', 'objectives', 'curious', 'about', 'how', 'a', 'career', 'path', 'works', 'the', 'first', 'thing', 'to', 'know', 'is', 'that', 'while', 'it', 'includes', 'the', 'jobs', 'you', '’', 'll', 'need', 'to', 'hit', 'your', 'ultimate', 'career', 'goal', 'a', 'career', 'path', 'doesn', '’', 't', 'need', 'to', 'follow', 'a', 'straight', 'line', 'there', '’', 's', 'no', 'blueprint', 'or', 'timetable', 'for', 'climbing', 'the', 'career', 'ladder', 'your', 'career', 'path', 'will', 'be', 'as', 'individual', 'as', 'you', 'are', 'you', 'may', 'take', 'a', 'very', 'different', 'route', 'than', 'your', 'colleagues', 'and', 'wind', 'up', 'in', 'the', 'same', 'spot', 'the', 'important', 'thing', 'to', 'remember', 'is', 'that', 'its', 'your', 'own', 'you', 'can', 'take', 'a', 'sabbatical', 'from', 'work', 'be', 'a', 'stayathome', 'parent', 'or', 'caregiver', 'or', 'even', 'move', 'down', 'the', 'career', 'ladder', 'there', 'isnt', 'a', 'right', 'or', 'wrong', 'way', 'to', 'grow', '–', 'or', 'to', 'downsize', '–', 'your', 'career', 'what', '’', 's', 'included', 'in', 'a', 'career', 'path', 'career', 'paths', 'traditionally', 'imply', 'vertical', 'growth', 'or', 'advancement', 'to', 'higherlevel', 'positions', 'but', 'they', 'can', 'also', 'entail', 'lateral', 'sideways', 'movement', 'within', 'or', 'across', 'industries\\ufeff\\ufeff', 'and', 'each', 'path', 'can', 'be', 'slightly', 'different', 'for', 'each', 'person', 'depending', 'on', 'how', 'long', 'you', 'need', 'to', 'take', 'to', 'reach', 'your', 'goals', 'or', 'if', 'you', 'change', 'your', 'goals', 'along', 'the', 'way', 'at', 'the', 'heart', 'of', 'a', 'career', 'path', 'is', 'the', 'fact', 'that', 'you', '’', 'll', 'be', 'changing', 'jobs', 'from', 'time', 'to', 'time', 'the', 'average', 'person', 'changes', 'jobs', '10', 'to', '15', 'times', 'during', 'their', 'career', 'and', 'sometimes', 'those', 'changes', 'will', 'involve', 'different', 'types', 'of', 'positions', 'in', 'various', 'industries', 'some', 'career', 'paths', 'have', 'a', 'few', 'ups', 'and', 'downs', 'and', 'in', 'fact', 'some', 'people', 'even', 'plan', 'a', 'move', 'down', 'the', 'career', 'ladder', 'for', 'example', 'people', 'who', 'are', 'midlifecareer', 'changers', 'may', 'need', 'to', 'go', 'down', 'a', 'level', 'or', 'two', 'from', 'where', 'they', 'were', 'so', 'they', 'can', 'get', 'the', 'training', 'and', 'experience', 'they', 'need', 'to', 'move', 'back', 'up', 'the', 'ladder', 'whichever', 'way', 'a', 'career', 'path', 'takes', 'someone', 'it', '’', 's', 'designed', 'to', 'provide', 'increased', 'satisfaction', 'of', 'a', 'workers', 'career', 'values', 'and', 'needs', 'by', 'targeting', 'a', 'series', 'of', 'jobs', 'designed', 'to', 'get', 'them', 'to', 'their', 'career', 'goal', 'job', 'satisfaction', 'is', 'one', 'important', 'key', 'to', 'a', 'happy', 'and', 'long', 'career\\ufeff\\ufeff', 'organizational', 'career', 'paths', 'career', 'paths', 'are', 'sometimes', 'part', 'of', 'the', 'employee', 'development', 'processes', 'within', 'organizations\\ufeff\\ufeff', 'in', 'this', 'case', 'an', 'employee', 'and', 'a', 'supervisor', 'or', 'human', 'resources', 'representative', 'discuss', 'the', 'career', 'development', 'of', 'the', 'worker', 'within', 'the', 'context', 'of', 'their', 'organization', 'this', 'discussion', 'may', 'take', 'place', 'as', 'part', 'of', 'the', 'performance', 'appraisal', 'process', 'and', 'considers', 'the', 'interests', 'knowledge', 'and', 'skills', 'of', 'the', 'employee', 'additional', 'education', 'training', 'or', 'work', 'assignments', 'may', 'be', 'planned', 'as', 'mechanisms', 'to', 'qualify', 'employees', 'for', 'subsequent', 'roles', 'within', 'their', 'career', 'path', 'in', 'many', 'cases', 'an', 'individual', 'will', 'develop', 'and', 'actualize', 'a', 'career', 'path', 'without', 'the', 'cooperation', 'of', 'their', 'employer', 'these', 'workers', 'will', 'engage', 'in', 'the', 'career', 'exploration', 'process', 'independently', 'or', 'with', 'the', 'assistance', 'of', 'a', 'career', 'counselor', 'mentor', 'or', 'personal', 'advisor', 'examples', 'of', 'career', 'paths', 'it', 'can', 'help', 'to', 'review', 'examples', 'of', 'career', 'paths', 'for', 'a', 'variety', 'of', 'different', 'career', 'fields', 'keep', 'in', 'mind', 'that', 'some', 'career', 'paths', 'are', 'direct', 'and', 'include', 'specific', 'jobs', 'that', 'move', 'an', 'individual', 'up', 'the', 'career', 'ladder', 'and', 'are', 'typically', 'followed', 'in', 'order', 'other', 'career', 'paths', 'are', 'indirect', 'and', 'may', 'involve', 'work', 'in', 'different', 'industries', 'or', 'types', 'of', 'jobs', 'such', 'as', 'when', 'someone', 'is', 'working', 'on', 'a', 'career', 'change', 'administration', 'administrative', 'assistant', 'executive', 'assistant', 'office', 'manager', 'administrative', 'assistant', 'executive', 'assistant', 'office', 'manager', 'advertising', 'advertising', 'account', 'coordinator', 'assistant', 'account', 'executive', 'account', 'executive', 'major', 'account', 'executive', 'advertising', 'account', 'coordinator', 'assistant', 'account', 'executive', 'account', 'executive', 'major', 'account', 'executive', 'communications', 'public', 'relations', 'assistant', 'public', 'relations', 'representative', 'assistant', 'director', 'of', 'public', 'relations', 'director', 'of', 'communications', 'public', 'relations', 'assistant', 'public', 'relations', 'representative', 'assistant', 'director', 'of', 'public', 'relations', 'director', 'of', 'communications', 'customer', 'services', 'sales', 'customer', 'service', 'representative', 'inside', 'salesperson', 'outside', 'salesperson', 'major', 'account', 'salesperson', 'regional', 'sales', 'manager', 'customer', 'service', 'representative', 'inside', 'salesperson', 'outside', 'salesperson', 'major', 'account', 'salesperson', 'regional', 'sales', 'manager', 'development', 'development', 'assistant', 'annual', 'giving', 'officer', 'development', 'associate', 'major', 'gift', 'officer', 'leadership', 'giving', 'officer', 'associate', 'director', 'of', 'leadership', 'gifts', 'development', 'assistant', 'annual', 'giving', 'officer', 'development', 'associate', 'major', 'gift', 'officer', 'leadership', 'giving', 'officer', 'associate', 'director', 'of', 'leadership', 'gifts', 'editorial', 'editorial', 'assistant', 'assistant', 'editor', 'associate', 'editor', 'editor', 'senior', 'editor', 'editorial', 'director', 'editorial', 'assistant', 'assistant', 'editor', 'associate', 'editor', 'editor', 'senior', 'editor', 'editorial', 'director', 'education', 'teacher', 'master', 'teacher', 'curriculum', 'coordinator', 'assistant', 'principal', 'principal', 'teacher', 'master', 'teacher', 'curriculum', 'coordinator', 'assistant', 'principal', 'principal', 'education', 'to', 'training', 'teacher', 'insurance', 'salesperson', 'trainer', 'for', 'new', 'agents', 'teacher', 'insurance', 'salesperson', 'trainer', 'for', 'new', 'agents', 'engineering', 'junior', 'engineer', 'senior', 'engineer', 'project', 'manager', 'engineering', 'consultant', 'junior', 'engineer', 'senior', 'engineer', 'project', 'manager', 'engineering', 'consultant', 'entrepreneur', 'salesperson', 'sales', 'manager', 'business', 'owner', 'salesperson', 'sales', 'manager', 'business', 'owner', 'human', 'resources', 'human', 'resources', 'assistant', 'interviewer', 'benefits', 'assistant', 'benefits', 'specialist', 'assistant', 'director', 'of', 'human', 'resources', 'director', 'of', 'human', 'resources', 'human', 'resources', 'assistant', 'interviewer', 'benefits', 'assistant', 'benefits', 'specialist', 'assistant', 'director', 'of', 'human', 'resources', 'director', 'of', 'human', 'resources', 'retail', 'retail', 'sales', 'clerk', 'assistant', 'manager', 'department', 'manager', 'store', 'manager', 'regional', 'manager', 'retail', 'sales', 'clerk', 'assistant', 'manager', 'department', 'manager', 'store', 'manager', 'regional', 'manager', 'sales', 'to', 'marketing', 'salesperson', 'mba', 'assistant', 'brand', 'manager', 'brand', 'manager', 'group', 'manager', 'marketing', 'director', 'tips', 'for', 'finding', 'your', 'perfect', 'career', 'path', 'always', 'be', 'in', 'learning', 'mode', 'today', '’', 's', 'job', 'market', 'moves', 'quickly', 'to', 'keep', 'up', 'you', 'need', 'to', 'be', 'prepared', 'to', 'add', 'to', 'your', 'skill', 'set', 'not', 'sure', 'which', 'skills', 'are', 'most', 'indemand', 'in', 'your', 'industry', 'take', 'a', 'look', 'at', 'the', 'linkedin', 'profiles', 'of', 'your', 'peers', '–', 'especially', 'those', 'employed', 'in', 'the', 'next', 'job', 'above', 'yours', 'you', '’', 'll', 'learn', 'which', 'hard', 'and', 'soft', 'skills', 'you', '’', 'll', 'need', 'to', 'advance', 'pay', 'attention', 'to', 'industry', 'news', 'what', 'will', 'your', 'job', 'be', 'like', 'in', 'five', 'years', '–', 'or', 'ten', 'no', 'one', 'knows', 'for', 'sure', 'but', 'if', 'you', 'keep', 'up', 'with', 'the', 'news', 'you', '’', 'll', 'get', 'a', 'sense', 'of', 'the', 'occupational', 'outlook', 'for', 'your', 'job', 'and', 'which', 'employers', 'are', 'likely', 'to', 'remain', 'in', 'the', 'game', 'network', 'network', 'network', 'networking', 'isn', '’', 't', 'just', 'for', 'job', 'seekers', 'connecting', 'with', 'your', 'peers', 'can', 'help', 'you', 'identify', 'whole', 'new', 'directions', 'for', 'your', 'career', '–', 'even', 'if', 'you', '’', 're', 'not', 'interested', 'in', 'job', 'hopping', 'at', 'the', 'moment', 'make', 'plans', 'but', 'be', 'flexible', 'don', '’', 't', 'hold', 'too', 'tightly', 'to', 'your', 'career', 'plan', 'when', 'developing', 'your', 'career', 'path', 'be', 'open', 'to', 'opportunity', 'and', 'keep', 'your', 'ultimate', 'goals', 'in', 'mind', 'what', '’', 's', 'important', 'to', 'you', 'what', 'do', 'you', 'enjoy', 'about', 'your', 'job', 'and', 'career', '–', 'and', 'what', 'would', 'you', 'prefer', 'to', 'minimize', 'at', 'your', 'next', 'gig', 'be', 'ready', 'for', 'a', 'career', 'shift', 'perhaps', 'youre', 'working', 'in', 'a', 'declining', 'industry', 'or', 'simply', 'tired', 'of', 'working', 'at', 'the', 'same', 'old', 'thing', 'for', 'what', 'seems', 'like', 'a', 'long', 'time', 'it', 'may', 'be', 'time', 'to', 'consider', 'making', 'over', 'your', 'career', 'and', 'moving', 'in', 'a', 'different', 'direction', 'don', '’', 't', 'be', 'afraid', 'of', 'a', 'lateral', 'move', 'sometimes', 'you', 'need', 'to', 'move', 'sideways', 'or', 'even', 'backward', 'to', 'get', 'ahead', 'if', 'a', 'job', 'offers', 'you', 'a', 'chance', 'to', 'develop', 'skills', 'or', 'connections', 'that', 'will', 'be', 'valuable', 'later', 'on', 'be', 'open', 'to', 'considering', 'a', 'lateral', 'move']\n"
     ]
    }
   ],
   "source": [
    "def LemNormalize(text):\n",
    "    return nltk.word_tokenize(text.lower().translate(remove_punct))\n",
    "\n",
    "#printing the tokenization text\n",
    "print(LemNormalize(text))"
   ]
  },
  {
   "cell_type": "code",
   "execution_count": 10,
   "metadata": {},
   "outputs": [],
   "source": [
    "#Keyword matching\n",
    "\n",
    "\n",
    "GREETING_INPUTS = ['hi','hello','hola','hey','wassup','greetings']\n",
    "\n",
    "#Greeting responses\n",
    "GREETING_RESPONSES = ['howdy','hey','hello','hey there']\n",
    "\n",
    "#creating a function for random greeting\n",
    "def greeting(sentence):\n",
    "    for word in sentence.split():\n",
    "        if word.lower() in GREETING_INPUTS:\n",
    "            return random.choice(GREETING_RESPONSES)"
   ]
  },
  {
   "cell_type": "code",
   "execution_count": 11,
   "metadata": {
    "scrolled": true
   },
   "outputs": [],
   "source": [
    "def response(user_response):\n",
    "    \n",
    "    \n",
    "    \n",
    "\n",
    "\n",
    "    # user_response = 'What kind of carrier should I choose?'\n",
    "\n",
    "    user_response = user_response.lower()\n",
    "\n",
    "    # print(user_response)\n",
    "\n",
    "    robo_renspose = \" \"\n",
    "\n",
    "    sent_tokens.append(user_response)\n",
    "\n",
    "#      print(sent_tokens)\n",
    "\n",
    "    TfidVec = TfidfVectorizer(tokenizer=LemNormalize,stop_words='english')\n",
    "\n",
    "    #converting text into tfidf features\n",
    "    tfidf = TfidVec.fit_transform(sent_tokens)\n",
    "\n",
    "\n",
    "#     print(tfidf)\n",
    "\n",
    "#getting the  similarity\n",
    "    vals = cosine_similarity(tfidf[-1],tfidf)\n",
    "\n",
    "#     print(vals)\n",
    "\n",
    "#getting  the index of most similar words\n",
    "    idx = vals.argsort()[0][-2]\n",
    "\n",
    "#reducing thje dimensionality\n",
    "    flat = vals.flatten()\n",
    "\n",
    "#sorting it in the ascendinig order\n",
    "    flat.sort()\n",
    "\n",
    "    score = flat[-2]\n",
    "\n",
    "\n",
    "\n",
    "\n",
    "    if(score == 0):\n",
    "        robo_renspose = robo_renspose + \"I apologize I don't understand\"\n",
    "    else:\n",
    "        robo_renspose = robo_renspose + sent_tokens[idx]\n",
    "        \n",
    "    sent_tokens.remove(user_response)    \n",
    "    return robo_renspose\n",
    "\n",
    "\n",
    "    \n",
    "\n",
    "\n",
    "\n"
   ]
  },
  {
   "cell_type": "code",
   "execution_count": 12,
   "metadata": {},
   "outputs": [
    {
     "name": "stdout",
     "output_type": "stream",
     "text": [
      "Brown: I am Career Guidance System I will answer your queries about your Careers ,If you want to exit type bye\n",
      "Doctor\n",
      "Brown: I apologize I don't understand\n",
      "Hey\n",
      "Brown :howdy\n",
      "Career\n",
      "Brown: Career paths and career plans may sound like the same thing, but they’re not:\n",
      "\n",
      "A career plan includes short-term or long-term goals leading to an ideal career;\n",
      "\n",
      "A career path specifically includes the jobs that help an individual progress towards his or her goals and objectives.\n",
      "bye\n",
      "Brown : Chat with you later\n"
     ]
    }
   ],
   "source": [
    "flag = True\n",
    "print(\"Brown: I am Career Guidance System I will answer your queries about your Careers ,If you want to exit type bye\")\n",
    "\n",
    "while(flag == True):\n",
    "    user_response = input()\n",
    "    user_response = user_response.lower()\n",
    "    \n",
    "    if(user_response != 'bye'):\n",
    "        if(user_response == 'thanks'or user_response == 'thank you'):\n",
    "            flag = False\n",
    "            print(\"Brown : You are welcome!\")\n",
    "        else:\n",
    "            if(greeting(user_response)!= None):\n",
    "                print(\"Brown :\"+ greeting(user_response))\n",
    "                \n",
    "            else:\n",
    "                print(\"Brown:\"+ response(user_response))\n",
    "                \n",
    "       \n",
    "    \n",
    "    else:\n",
    "        flag = False\n",
    "        print('Brown : Chat with you later')\n"
   ]
  },
  {
   "cell_type": "code",
   "execution_count": null,
   "metadata": {},
   "outputs": [],
   "source": []
  }
 ],
 "metadata": {
  "kernelspec": {
   "display_name": "Python 3",
   "language": "python",
   "name": "python3"
  },
  "language_info": {
   "codemirror_mode": {
    "name": "ipython",
    "version": 3
   },
   "file_extension": ".py",
   "mimetype": "text/x-python",
   "name": "python",
   "nbconvert_exporter": "python",
   "pygments_lexer": "ipython3",
   "version": "3.7.6"
  }
 },
 "nbformat": 4,
 "nbformat_minor": 4
}
