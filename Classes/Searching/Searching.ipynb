{
 "cells": [
  {
   "cell_type": "markdown",
   "metadata": {},
   "source": [
    "# LINEAR SEARCH"
   ]
  },
  {
   "cell_type": "code",
   "execution_count": null,
   "metadata": {},
   "outputs": [],
   "source": []
  },
  {
   "cell_type": "code",
   "execution_count": 8,
   "metadata": {},
   "outputs": [
    {
     "data": {
      "text/plain": [
       "True"
      ]
     },
     "execution_count": 8,
     "metadata": {},
     "output_type": "execute_result"
    }
   ],
   "source": [
    "#Linear Searching\n",
    "def search(list,n): \n",
    "\n",
    "    for i in range(len(list)): \n",
    "        if list[i] == n: \n",
    "            return True\n",
    "    return False\n",
    "\n",
    "\n",
    "pi = [12,134,12324,123,1234,143,152,'Richard','Wither','Bloom','Glutton']\n",
    "\n",
    "n = 'Glutton'\n",
    "search(pi,n)\n"
   ]
  },
  {
   "cell_type": "markdown",
   "metadata": {},
   "source": [
    "# BINARY SEARCH"
   ]
  },
  {
   "cell_type": "code",
   "execution_count": 15,
   "metadata": {},
   "outputs": [
    {
     "name": "stdout",
     "output_type": "stream",
     "text": [
      "enter the number24\n",
      "Element not found\n"
     ]
    }
   ],
   "source": [
    "#\n",
    "\n",
    "a = [10,20,30,40,50]\n",
    "beg = 0\n",
    "end  = len(a)\n",
    "\n",
    "\n",
    "x = int(input(\"enter the number\"))\n",
    "y = 0\n",
    "while(beg <=end):\n",
    "    mid = (beg+end)//2\n",
    "    if a[mid]>x:\n",
    "        end = mid -1\n",
    "    elif a[mid]<x:\n",
    "        beg = mid+1\n",
    "    else:\n",
    "        y = mid\n",
    "        break\n",
    "if y >0:\n",
    "    print(\"Element is found\",y+1)\n",
    "else:\n",
    "    print(\"Element not found\")\n",
    "    \n",
    "        \n"
   ]
  },
  {
   "cell_type": "markdown",
   "metadata": {},
   "source": [
    "# SELECTION SORT"
   ]
  },
  {
   "cell_type": "code",
   "execution_count": 16,
   "metadata": {},
   "outputs": [
    {
     "name": "stdout",
     "output_type": "stream",
     "text": [
      "Sorted array\n",
      "11\n",
      "12\n",
      "22\n",
      "25\n",
      "64\n"
     ]
    }
   ],
   "source": [
    "A = [64, 25, 12, 22, 11] \n",
    "\n",
    "\n",
    "for i in range(len(A)): \n",
    "\t\n",
    "\t\n",
    "\tmin_idx = i \n",
    "\tfor j in range(i+1, len(A)): \n",
    "\t\tif A[min_idx] > A[j]: \n",
    "\t\t\tmin_idx = j \n",
    "\t\n",
    "\tA[i], A[min_idx] = A[min_idx], A[i] \n",
    "\n",
    "\n",
    "print (\"Sorted array\") \n",
    "for i in range(len(A)): \n",
    "\tprint(\"%d\" %A[i]), \n",
    "\n",
    "\n"
   ]
  },
  {
   "cell_type": "markdown",
   "metadata": {},
   "source": [
    "# Merge Sort\n",
    "        \n",
    "\n",
    "    "
   ]
  },
  {
   "cell_type": "code",
   "execution_count": 5,
   "metadata": {},
   "outputs": [
    {
     "data": {
      "text/plain": [
       "[2, 7, 8, 91]"
      ]
     },
     "execution_count": 5,
     "metadata": {},
     "output_type": "execute_result"
    }
   ],
   "source": [
    "def merge(a,b):\n",
    "    c = []\n",
    "    while len(a)!=0 and len(b)!= 0:\n",
    "        if a[0]< b[0]:\n",
    "            c.append(a[0])\n",
    "            a.remove(a[0])\n",
    "        else:\n",
    "            c.append(b[0])\n",
    "            b.remove(b[0])\n",
    "            \n",
    "    if len(a) == 0:\n",
    "        c +=b\n",
    "    else:\n",
    "        c +=a\n",
    "        \n",
    "    return c\n",
    "\n",
    "\n",
    "def merge_sort(x):\n",
    "    if len(x) == 0 or len(x)==1:\n",
    "        return x\n",
    "    else:\n",
    "        middle = len(x)//2\n",
    "        a = merge_sort(x[:middle])\n",
    "        b = merge_sort(x[middle:])\n",
    "        return merge(a,b)\n",
    "    \n",
    "a = [2,7,91,8]\n",
    "merge_sort(a)"
   ]
  },
  {
   "cell_type": "markdown",
   "metadata": {},
   "source": [
    "# Quick Sort"
   ]
  },
  {
   "cell_type": "code",
   "execution_count": 11,
   "metadata": {},
   "outputs": [],
   "source": [
    "def partirion(lst,low,high):\n",
    "    i= (low -1)\n",
    "    pivot = lst[high]\n",
    "    for j in range(low,high):\n",
    "        if lst[j] <= pivot:\n",
    "            i = i+1\n",
    "            lst[i],lst[j] = lst[j],lst[i]\n",
    "            \n",
    "    lst[i+1],lst[high] = lst[high],lst[i+1]\n",
    "    return(i+1)\n",
    "def quickSort(lst,low,high):\n",
    "    if low< high:\n",
    "        pi = partirion(lst,low,high)\n",
    "        quickSort(lst,low,pi-1)\n",
    "        quickSort(lst,pi+1,high)\n",
    "\n",
    "   \n",
    "            "
   ]
  },
  {
   "cell_type": "code",
   "execution_count": 13,
   "metadata": {},
   "outputs": [
    {
     "name": "stdout",
     "output_type": "stream",
     "text": [
      "sorted array is: [2, 12, 34, 75, 223]\n"
     ]
    }
   ],
   "source": [
    "a = [2,75,34,223,12]\n",
    "n  = len(a)\n",
    "quickSort(a,0,n-1)\n",
    "print(\"sorted array is:\",a)"
   ]
  },
  {
   "cell_type": "markdown",
   "metadata": {},
   "source": [
    "# Insertion sort"
   ]
  },
  {
   "cell_type": "code",
   "execution_count": 22,
   "metadata": {},
   "outputs": [],
   "source": [
    "def insertionSort(arr):\n",
    "    for i in range(1,len(arr)):\n",
    "        key = arr[i]\n",
    "        j = i-1\n",
    "        while j>=0 and key < arr[j]:\n",
    "            arr[j+1] = arr[j]\n",
    "            j -=1\n",
    "            arr[j+1] = key"
   ]
  },
  {
   "cell_type": "code",
   "execution_count": 21,
   "metadata": {},
   "outputs": [
    {
     "data": {
      "text/plain": [
       "[2, 12, 34, 75, 223]"
      ]
     },
     "execution_count": 21,
     "metadata": {},
     "output_type": "execute_result"
    }
   ],
   "source": [
    "insertionSort(a)\n",
    "a"
   ]
  },
  {
   "cell_type": "code",
   "execution_count": null,
   "metadata": {},
   "outputs": [],
   "source": []
  }
 ],
 "metadata": {
  "kernelspec": {
   "display_name": "Python 3",
   "language": "python",
   "name": "python3"
  },
  "language_info": {
   "codemirror_mode": {
    "name": "ipython",
    "version": 3
   },
   "file_extension": ".py",
   "mimetype": "text/x-python",
   "name": "python",
   "nbconvert_exporter": "python",
   "pygments_lexer": "ipython3",
   "version": "3.7.3"
  }
 },
 "nbformat": 4,
 "nbformat_minor": 2
}
