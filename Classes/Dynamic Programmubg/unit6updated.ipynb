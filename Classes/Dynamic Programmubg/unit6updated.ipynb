{
 "cells": [
  {
   "cell_type": "code",
   "execution_count": 1,
   "metadata": {},
   "outputs": [
    {
     "name": "stdout",
     "output_type": "stream",
     "text": [
      "List has the items:  [4, 2, 7, 5, 12, 54, 21, 64, 12, 32]\n",
      "Enter a number to search for: 7\n",
      "7  was found in the list at index  2\n"
     ]
    }
   ],
   "source": [
    "#linear search\n",
    "nlist = [4, 2, 7, 5, 12, 54, 21, 64, 12, 32]\n",
    "print('List has the items: ', nlist)\n",
    "searchItem = int(input('Enter a number to search for: '))\n",
    "found = False\n",
    "for i in range(len(nlist)):\n",
    "    if nlist[i] == searchItem:\n",
    "        found = True\n",
    "        print(searchItem, ' was found in the list at index ', i)\n",
    "        break\n",
    "if found == False:\n",
    "    print(searchItem, ' was not found in the list!')"
   ]
  },
  {
   "cell_type": "code",
   "execution_count": 3,
   "metadata": {},
   "outputs": [
    {
     "name": "stdout",
     "output_type": "stream",
     "text": [
      "enter no of elements5\n",
      "enter number one by one7\n",
      "enter number one by one8\n",
      "enter number one by one8\n",
      "enter number one by one90\n",
      "enter number one by one78\n",
      "enter element to be searched78\n",
      "Element is not present in list\n"
     ]
    }
   ],
   "source": [
    "def binarySearch(lst, l, r, x):\n",
    "    while l <= r:\n",
    "        mid = l + (r - l)//2;\n",
    "        if lst[mid] == x:\n",
    "            return mid\n",
    "        elif lst[mid] < x:\n",
    "            l = mid + 1\n",
    "        else:\n",
    "            r = mid - 1 \n",
    "    return -1\n",
    "a=[]\n",
    "b=int(input(\"enter no of elements\"))\n",
    "for i in range(b):\n",
    "    c=int(input(\"enter number one by one\"))\n",
    "    a.append(c)\n",
    "x=int(input(\"enter element to be searched\"))\n",
    "result = binarySearch(a, 0, len(a)-1, x)\n",
    " \n",
    "if result != -1:\n",
    "    print (\"Element is present at index %d\" % result)\n",
    "else:\n",
    "    print (\"Element is not present in list\")"
   ]
  },
  {
   "cell_type": "code",
   "execution_count": 3,
   "metadata": {},
   "outputs": [
    {
     "name": "stdout",
     "output_type": "stream",
     "text": [
      "Sorted array is:\n",
      "5\n",
      "6\n",
      "11\n",
      "12\n",
      "13\n"
     ]
    }
   ],
   "source": [
    "def insertionSort(arr): \n",
    "  \n",
    "    # Traverse through 1 to len(arr) \n",
    "    for i in range(1, len(arr)): \n",
    "  \n",
    "        key = arr[i] \n",
    "        j = i-1\n",
    "        while j >=0 and key < arr[j] : \n",
    "                arr[j+1] = arr[j] \n",
    "                j -= 1\n",
    "        arr[j+1] = key \n",
    "  \n",
    "  \n",
    "# Driver code to test above \n",
    "arr = [12, 11, 13, 5, 6] \n",
    "insertionSort(arr) \n",
    "print (\"Sorted array is:\") \n",
    "for i in range(len(arr)): \n",
    "    print (\"%d\" %arr[i])"
   ]
  },
  {
   "cell_type": "code",
   "execution_count": 4,
   "metadata": {},
   "outputs": [
    {
     "name": "stdout",
     "output_type": "stream",
     "text": [
      "Sorted array\n",
      "11\n",
      "12\n",
      "22\n",
      "25\n",
      "64\n"
     ]
    }
   ],
   "source": [
    "#selection sort\n",
    "A = [64, 25, 12, 22, 11] \n",
    "  \n",
    "# Traverse through all array elements \n",
    "for i in range(len(A)): \n",
    "      \n",
    "    # Find the minimum element in remaining  \n",
    "    # unsorted array \n",
    "    min_idx = i \n",
    "    for j in range(i+1, len(A)): \n",
    "        if A[min_idx] > A[j]: \n",
    "            min_idx = j \n",
    "              \n",
    "    # Swap the found minimum element with  \n",
    "    # the first element         \n",
    "    A[i], A[min_idx] = A[min_idx], A[i] \n",
    "  \n",
    " \n",
    "print (\"Sorted array\") \n",
    "for i in range(len(A)): \n",
    "    print(\"%d\" %A[i]) "
   ]
  },
  {
   "cell_type": "code",
   "execution_count": 2,
   "metadata": {},
   "outputs": [
    {
     "name": "stdout",
     "output_type": "stream",
     "text": [
      "[2]\n",
      "[7]\n",
      "2 7\n",
      "[2, 7]\n",
      "[9]\n",
      "[1]\n",
      "[8]\n",
      "1 8\n",
      "[1, 8]\n",
      "9 1\n",
      "9 8\n",
      "[1, 8, 9]\n",
      "2 1\n",
      "2 8\n",
      "7 8\n",
      "[1, 2, 7, 8, 9]\n"
     ]
    }
   ],
   "source": [
    "\n",
    "\n",
    "\n",
    "\n",
    "\n",
    "\n",
    "def merge(a,b):\n",
    "    c = []\n",
    "    while len(a) != 0 and len(b) != 0:\n",
    "        if a[0] < b[0]:\n",
    "            c.append(a[0])\n",
    "            a.remove(a[0])\n",
    "        else:\n",
    "            c.append(b[0])\n",
    "            b.remove(b[0])\n",
    "    if len(a) == 0:\n",
    "        c += b\n",
    "    else:\n",
    "        c += a\n",
    "    return c\n",
    "def mergesort(x):\n",
    "    if len(x) == 0 or len(x) == 1:\n",
    "        return x\n",
    "    else:\n",
    "        middle = len(x)//2\n",
    "        a = mergesort(x[:middle])\n",
    "        b = mergesort(x[middle:])\n",
    "        return merge(a,b)\n",
    "a=[2,7,9,1,8]\n",
    "print(mergesort(a))"
   ]
  },
  {
   "cell_type": "code",
   "execution_count": 7,
   "metadata": {},
   "outputs": [
    {
     "name": "stdout",
     "output_type": "stream",
     "text": [
      "Sorted lstay is: [1, 2, 7, 8, 9]\n"
     ]
    }
   ],
   "source": [
    "def partition(lst,low,high):\n",
    "    i = ( low-1 )         \n",
    "    pivot = lst[high]     \n",
    "    for j in range(low , high):\n",
    "        if   lst[j] <= pivot:\n",
    "            i = i+1\n",
    "            lst[i],lst[j] = lst[j],lst[i]\n",
    " \n",
    "    lst[i+1],lst[high] = lst[high],lst[i+1]\n",
    "    return ( i+1 ) \n",
    "def quickSort(lst,low,high):\n",
    "    if low < high:\n",
    "        pi = partition(lst,low,high)\n",
    "        quickSort(lst, low, pi-1)\n",
    "        quickSort(lst, pi+1, high)\n",
    "a=[2,7,9,1,8]\n",
    "n = len(a)\n",
    "quickSort(a,0,n-1)\n",
    "print (\"Sorted lstay is:\",a)"
   ]
  },
  {
   "cell_type": "code",
   "execution_count": 8,
   "metadata": {},
   "outputs": [
    {
     "name": "stdout",
     "output_type": "stream",
     "text": [
      "120\n"
     ]
    }
   ],
   "source": [
    "fact={}\n",
    "fact[0]=1\n",
    "fact[1]=1\n",
    "def factorial(n):\n",
    "    if n==0 or n==1:\n",
    "        return 1\n",
    "    else:\n",
    "        for i in range(2,n+1):\n",
    "            fact[i]=i*fact[i-1]\n",
    "        return fact[i]\n",
    "print(factorial(5))\n"
   ]
  },
  {
   "cell_type": "code",
   "execution_count": 1,
   "metadata": {},
   "outputs": [
    {
     "name": "stdout",
     "output_type": "stream",
     "text": [
      "{0: 0, 1: 1, 2: 1, 3: 2, 4: 3, 5: 5, 6: 8, 7: 13, 8: 21}\n"
     ]
    }
   ],
   "source": [
    "fib={}\n",
    "fib[0]=0\n",
    "fib[1]=1\n",
    "def fibo(n):\n",
    "    for i in range(2,n+1):\n",
    "        fib[i]=fib[i-1]+fib[i-2]\n",
    "    return fib[i]\n",
    "print(fibo(8))\n"
   ]
  },
  {
   "cell_type": "code",
   "execution_count": 10,
   "metadata": {},
   "outputs": [
    {
     "name": "stdout",
     "output_type": "stream",
     "text": [
      "6\n"
     ]
    }
   ],
   "source": [
    "def lcw():\n",
    "    u=\"secretary\"\n",
    "    v=\"secret\"\n",
    "    lcw=[[0]*(len(v)+1) for x in range(len(u)+1)]\n",
    "       \n",
    "    maxl=0\n",
    "    for c in range(len(v)-1,-1,-1):\n",
    "        for r in range(len(u)-1,-1,-1):\n",
    "            if u[r]==v[c]:\n",
    "                lcw[r][c]=lcw[r+1][c+1]+1\n",
    "            else:\n",
    "                lcw[r][c]=0\n",
    "            if lcw[r][c]>maxl:\n",
    "                maxl=lcw[r][c]\n",
    "    return (maxl)\n",
    "    \n",
    "print (lcw())"
   ]
  },
  {
   "cell_type": "code",
   "execution_count": null,
   "metadata": {},
   "outputs": [],
   "source": [
    "def lcs(X , Y): \n",
    "    # find the length of the strings \n",
    "    m = len(X) \n",
    "    n = len(Y) \n",
    "  \n",
    "    # declaring the array for storing the dp values \n",
    "    L = [[0]*(n+1) for i in range(m+1)] \n",
    "  \n",
    "    \"\"\"Following steps build L[m+1][n+1] in bottom up fashion \n",
    "    Note: L[i][j] contains length of LCS of X[0..i-1] \n",
    "    and Y[0..j-1]\"\"\"\n",
    "    for i in range(m+1): \n",
    "        for j in range(n+1): \n",
    "            if i == 0 or j == 0 : \n",
    "                L[i][j] = 0\n",
    "            elif X[i-1] == Y[j-1]: \n",
    "                L[i][j] = L[i-1][j-1]+1\n",
    "            else: \n",
    "                L[i][j] = max(L[i-1][j] , L[i][j-1]) \n",
    "  \n",
    "    # L[m][n] contains the length of LCS of X[0..n-1] & Y[0..m-1] \n",
    "    return L[m][n] \n",
    "#end of function lcs\n",
    "lcs('secret','bisect')"
   ]
  }
 ],
 "metadata": {
  "kernelspec": {
   "display_name": "Python 3",
   "language": "python",
   "name": "python3"
  },
  "language_info": {
   "codemirror_mode": {
    "name": "ipython",
    "version": 3
   },
   "file_extension": ".py",
   "mimetype": "text/x-python",
   "name": "python",
   "nbconvert_exporter": "python",
   "pygments_lexer": "ipython3",
   "version": "3.6.5"
  }
 },
 "nbformat": 4,
 "nbformat_minor": 2
}
