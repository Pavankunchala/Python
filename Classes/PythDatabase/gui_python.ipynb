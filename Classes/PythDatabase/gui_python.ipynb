{
 "cells": [
  {
   "cell_type": "code",
   "execution_count": 1,
   "metadata": {},
   "outputs": [],
   "source": [
    "import tkinter\n",
    "top = tkinter.Tk()\n",
    "# Code to add widgets will go here...\n",
    "top.geometry(\"300x400\")\n",
    "top.mainloop()"
   ]
  },
  {
   "cell_type": "code",
   "execution_count": 3,
   "metadata": {},
   "outputs": [],
   "source": [
    "import tkinter\n",
    "from tkinter import messagebox\n",
    "top = tkinter.Tk()\n",
    "top.geometry(\"400x400\")\n",
    "def fun():\n",
    "    messagebox.showerror( \"Hello \", \"Hello students\")\n",
    "B = tkinter.Button(top, text =\"Hello\", command = fun ,\n",
    "                   cursor = \"heart\" , bg=\"Red\", bd=\"6\" )\n",
    "B.pack()\n",
    "top.mainloop()"
   ]
  },
  {
   "cell_type": "code",
   "execution_count": 7,
   "metadata": {},
   "outputs": [],
   "source": [
    "import tkinter\n",
    "top = tkinter.Tk()\n",
    "top.geometry(\"500x500\")\n",
    "C = tkinter.Canvas(top, bg=\"blue\", height=250, width=300)\n",
    "coord = 50,50,200,200\n",
    "arc = C.create_arc(coord, start=0, extent=90, fill=\"red\")\n",
    "line=C.create_line(300,-250,100,100, fill=\"orange\")\n",
    "oval=C.create_oval(20,20,130,70,fill=\"grey\")\n",
    "C.pack()\n",
    "top.mainloop()"
   ]
  },
  {
   "cell_type": "code",
   "execution_count": 5,
   "metadata": {},
   "outputs": [],
   "source": [
    "from tkinter import *\n",
    "top = Tk()\n",
    "top.geometry(\"400x200\")\n",
    "top.config(bg=\"blue\")\n",
    "L1 = Label(top, text=\"User Name\" )\n",
    "L1.grid(row=0,column=0)\n",
    "E1 = Entry(top, bd=5, width=20)\n",
    "E1.grid(row=0,column=1)\n",
    "L2 = Label(top, text=\"User Name\" )\n",
    "L2.grid(row=1,column=0)\n",
    "E2 = Entry(top, bd=5, width=20)\n",
    "E2.grid(row=1,column=1)\n",
    "L3 = Label(top, text=\"User Name\" )\n",
    "L3.grid(row=2,column=0)\n",
    "E3 = Entry(top, bd=5, width=20)\n",
    "E3.grid(row=2,column=1)\n",
    "def fun():\n",
    "    a=int(E1.get())\n",
    "    b=int(E2.get())\n",
    "    c=a+b\n",
    "    E3.insert(0,c)\n",
    "+B = tkinter.Button(top, text =\"Hello\", command = fun ,cursor = \"heart\" , bg=\"Red\", bd=\"6\" )\n",
    "B.grid(row=3,column=1)\n",
    "top.mainloop()"
   ]
  },
  {
   "cell_type": "code",
   "execution_count": null,
   "metadata": {},
   "outputs": [],
   "source": []
  },
  {
   "cell_type": "code",
   "execution_count": 12,
   "metadata": {},
   "outputs": [],
   "source": [
    "from tkinter import *\n",
    "\n",
    "root = Tk()\n",
    "root.geometry(\"300x300\")\n",
    "frame = Frame(root, bg=\"blue\",highlightbackground=\"green\",\n",
    "               highlightthickness=5, padx=20, pady=20)\n",
    "frame.grid(row=0,column=0)\n",
    "\n",
    "\n",
    "bottomframe = Frame(root, bg=\"red\", padx=20, pady=20,highlightbackground=\"orange\",\n",
    "             highlightthickness=5)\n",
    "\n",
    "bottomframe.grid(row=1,column=1)\n",
    "\n",
    "redbutton = Button(frame, text=\"Red\", fg=\"red\")\n",
    "redbutton.pack(padx=10, side = LEFT)\n",
    "\n",
    "greenbutton = Button(frame, text=\"Brown\", fg=\"brown\")\n",
    "greenbutton.pack( side = LEFT )\n",
    "\n",
    "bluebutton = Button(frame, text=\"Blue\", fg=\"blue\")\n",
    "bluebutton.pack( side = LEFT )\n",
    "\n",
    "blackbutton = Button(bottomframe, text=\"Black\", fg=\"black\")\n",
    "blackbutton.pack()\n",
    "\n",
    "root.mainloop()"
   ]
  },
  {
   "cell_type": "code",
   "execution_count": 9,
   "metadata": {},
   "outputs": [],
   "source": [
    "from tkinter import *\n",
    "def sel():\n",
    "    selection = \"You selected \" + str(var.get())\n",
    "    label.config(text = selection)\n",
    "root = Tk()\n",
    "root.geometry(\"500x500\")\n",
    "var = IntVar()\n",
    "R1 = Radiobutton(root, text=\"Option 1\", variable=var, value=1,\n",
    "                  command=sel)\n",
    "R1.pack( )\n",
    "\n",
    "R2 = Radiobutton(root, text=\"Option 2\", variable=var, value=2,\n",
    "                  command=sel)\n",
    "R2.pack( )\n",
    "\n",
    "R3 = Radiobutton(root, text=\"Option 3\", variable=var, value=3,\n",
    "                  command=sel)\n",
    "R3.pack( )\n",
    "\n",
    "label = Label(root)\n",
    "label.pack()\n",
    "root.mainloop()"
   ]
  },
  {
   "cell_type": "code",
   "execution_count": 14,
   "metadata": {},
   "outputs": [],
   "source": [
    "from tkinter import *\n",
    "def donothing():\n",
    "    a=Toplevel(root)\n",
    "    button = Button(a, text=\"Do nothing button\")\n",
    "    button.pack()\n",
    "root = Tk()\n",
    "menubar = Menu(root)\n",
    "filemenu = Menu(menubar, tearoff = 1)\n",
    "filemenu.add_command(label=\"New\", command = donothing)\n",
    "filemenu.add_command(label = \"Open\", command = donothing)\n",
    "filemenu.add_command(label = \"Save\", command = donothing)\n",
    "filemenu.add_command(label = \"Save as...\", command = donothing)\n",
    "filemenu.add_command(label = \"Close\", command = donothing)\n",
    "filemenu.add_separator()\n",
    "filemenu.add_command(label = \"Exit\", command = root.quit)\n",
    "menubar.add_cascade(label = \"File\", menu = filemenu)\n",
    "editmenu = Menu(menubar, tearoff=0)\n",
    "editmenu.add_command(label = \"Undo\", command = donothing)\n",
    "editmenu.add_separator()\n",
    "editmenu.add_command(label = \"Cut\", command = donothing)\n",
    "editmenu.add_command(label = \"Copy\", command = donothing)\n",
    "editmenu.add_command(label = \"Paste\", command = donothing)\n",
    "editmenu.add_command(label = \"Delete\", command = donothing)\n",
    "editmenu.add_command(label = \"Select All\", command = donothing)\n",
    "\n",
    "menubar.add_cascade(label = \"Edit\", menu = editmenu)\n",
    "helpmenu = Menu(menubar, tearoff=1)\n",
    "helpmenu.add_command(label = \"Help Index\", command = donothing)\n",
    "helpmenu.add_command(label = \"About...\", command = donothing)\n",
    "menubar.add_cascade(label = \"Help\", menu = helpmenu)\n",
    "\n",
    "root.config(menu = menubar)\n",
    "root.mainloop()\n"
   ]
  },
  {
   "cell_type": "code",
   "execution_count": 11,
   "metadata": {},
   "outputs": [],
   "source": [
    "from tkinter import *\n",
    "from tkinter import messagebox\n",
    "\n",
    "top = Tk()\n",
    "top.geometry(\"500x500\")\n",
    "CheckVar1 = IntVar()\n",
    "CheckVar2 = IntVar()\n",
    "C1 = Checkbutton(top, text = \"Music\", variable = CheckVar1,onvalue = 1, offvalue = 0,\n",
    "                 height=5, width = 20 )\n",
    "C2 = Checkbutton(top, text = \"Video\", variable = CheckVar2, \n",
    "                 onvalue = 1, offvalue = 0, height=0, \n",
    "                 width = 0)\n",
    "C1.pack()\n",
    "C2.pack()\n",
    "label = Label(top)\n",
    "label.pack()\n",
    "top.mainloop()"
   ]
  },
  {
   "cell_type": "code",
   "execution_count": 16,
   "metadata": {},
   "outputs": [],
   "source": [
    "from tkinter import *\n",
    "root=Tk()    \n",
    "canvas = Canvas(width = 300, height = 200, bg = 'yellow')\n",
    "canvas.pack()   \n",
    "gif1 = PhotoImage(file = 'dw.png')\n",
    "canvas.create_image(150,150, image = gif1)\n",
    "s=Spinbox(root,from_=10,to=100)\n",
    "s.pack()\n",
    "s1=Scale(root,from_=0,to=300)\n",
    "s1.pack()\n",
    "root.mainloop()\n"
   ]
  },
  {
   "cell_type": "code",
   "execution_count": 36,
   "metadata": {},
   "outputs": [],
   "source": [
    "from tkinter import *\n",
    "root=Tk()  \n",
    "sc1=Scrollbar(root)\n",
    "sc1.pack(side=RIGHT,fill=Y)\n",
    "l1=Listbox(root,yscrollcommand=sc1.set)\n",
    "for i in range(100):\n",
    "    l1.insert(0,\"this is line\"+str(i))\n",
    "sc1.config(command=l1.yview)\n",
    "l1.pack(side=LEFT)\n",
    "root.mainloop()"
   ]
  },
  {
   "cell_type": "code",
   "execution_count": null,
   "metadata": {},
   "outputs": [],
   "source": []
  }
 ],
 "metadata": {
  "kernelspec": {
   "display_name": "Python 3",
   "language": "python",
   "name": "python3"
  },
  "language_info": {
   "codemirror_mode": {
    "name": "ipython",
    "version": 3
   },
   "file_extension": ".py",
   "mimetype": "text/x-python",
   "name": "python",
   "nbconvert_exporter": "python",
   "pygments_lexer": "ipython3",
   "version": "3.6.5"
  }
 },
 "nbformat": 4,
 "nbformat_minor": 2
}
