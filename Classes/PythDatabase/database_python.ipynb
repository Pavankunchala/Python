{
 "cells": [
  {
   "cell_type": "code",
   "execution_count": 3,
   "metadata": {},
   "outputs": [],
   "source": [
    "\n",
    "import sqlite3 \n",
    "c = sqlite3.connect('k17u.db')\n",
    "a=\"INSERT INTO abc VALUES ( 'Nandini','lpu',24,'959241')\"\n",
    "# Create table \n",
    "c.execute(\"CREATE TABLE abc (name text, address text, age real, mobileno text)\")\n",
    " # Insert a row of data\n",
    "c.execute(a) \n",
    "# Save (commit) the changes \n",
    "c.commit() \n",
    "# We can also close the connection if we are done with it.\n",
    " # Just be sure any changes have been committed or they will be lost.\n",
    "c.close()  "
   ]
  },
  {
   "cell_type": "code",
   "execution_count": 2,
   "metadata": {},
   "outputs": [
    {
     "name": "stdout",
     "output_type": "stream",
     "text": [
      "[('Nandini', 'lpu', 24.0, '959241'), ('abc', 'add1', 25.0, '23456'), ('abc', 'add1', 26.0, '23456'), ('abc', 'add1', 27.0, '23456'), ('abc', 'add1', 25.0, '23456'), ('abc', 'add1', 26.0, '23456'), ('abc', 'add1', 27.0, '23456'), ('abc', 'add1', 25.0, '23456'), ('abc', 'add1', 26.0, '23456'), ('abc', 'add1', 27.0, '23456')]\n"
     ]
    }
   ],
   "source": [
    "import sqlite3 \n",
    "conn = sqlite3.connect('k17u.db')\n",
    "a=conn.execute('SELECT * FROM abc')\n",
    "#print (a.fetchone())\n",
    "#print (a.fetchmany(3))\n",
    "print(a.fetchall())\n",
    "#for i in a:\n",
    "   # print(i)\n",
    "conn.commit()\n",
    "conn.close() "
   ]
  },
  {
   "cell_type": "code",
   "execution_count": 11,
   "metadata": {},
   "outputs": [
    {
     "name": "stdout",
     "output_type": "stream",
     "text": [
      "[('Nandini', 'lpu', 24.0, '959241'), ('abc', 'add1', 25.0, '23456'), ('abc', 'add1', 26.0, '23456'), ('abc', 'add1', 27.0, '23456'), ('abc', 'add1', 25.0, '23456'), ('abc', 'add1', 26.0, '23456'), ('abc', 'add1', 27.0, '23456'), ('abc', 'add1', 25.0, '23456')]\n",
      "('Nandini', 'lpu', 24.0, '959241')\n",
      "('abc', 'add1', 25.0, '23456')\n",
      "('abc', 'add1', 26.0, '23456')\n",
      "('abc', 'add1', 27.0, '23456')\n",
      "('abc', 'add1', 25.0, '23456')\n",
      "('abc', 'add1', 26.0, '23456')\n",
      "('abc', 'add1', 27.0, '23456')\n",
      "('abc', 'add1', 25.0, '23456')\n",
      "('abc', 'add1', 26.0, '23456')\n",
      "('abc', 'add1', 27.0, '23456')\n"
     ]
    }
   ],
   "source": [
    "import sqlite3 \n",
    "conn = sqlite3.connect('k17u.db')\n",
    "\n",
    "list1 = [('abc','add1',25,'23456'),\n",
    "         ('abc','add1',26,'23456'),\n",
    "         ('abc','add1',27,'23456'),\n",
    "         ] \n",
    "conn.executemany('INSERT INTO abc VALUES (?,?,?,?)', list1)\n",
    "a=conn.execute('SELECT * FROM abc')\n",
    "\n",
    "print (a.fetchmany(8))\n",
    "conn.commit()\n",
    "#for row in c.execute('SELECT * FROM abc'):\n",
    "       # print (row)\n",
    "conn.close() \n"
   ]
  },
  {
   "cell_type": "code",
   "execution_count": null,
   "metadata": {},
   "outputs": [],
   "source": []
  }
 ],
 "metadata": {
  "kernelspec": {
   "display_name": "Python 3",
   "language": "python",
   "name": "python3"
  },
  "language_info": {
   "codemirror_mode": {
    "name": "ipython",
    "version": 3
   },
   "file_extension": ".py",
   "mimetype": "text/x-python",
   "name": "python",
   "nbconvert_exporter": "python",
   "pygments_lexer": "ipython3",
   "version": "3.6.5"
  }
 },
 "nbformat": 4,
 "nbformat_minor": 2
}
