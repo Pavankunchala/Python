{
 "cells": [
  {
   "cell_type": "code",
   "execution_count": 15,
   "metadata": {},
   "outputs": [],
   "source": [
    "import tensorflow as tf\n"
   ]
  },
  {
   "cell_type": "code",
   "execution_count": 26,
   "metadata": {},
   "outputs": [],
   "source": [
    "a = tf.add(1,2,name='First_add')\n",
    "a1 = tf.add(100,200 ,name='a_add')\n",
    "a2 = tf.multiply(a,a1)\n",
    "\n",
    "\n",
    "b= tf.add(3,4, name='Second_add')\n",
    "b1= tf.add(300,400, name='b_add')\n",
    "b2 = tf.multiply(b,b1)\n",
    "\n",
    "c = tf.multiply(a2,b2, name='final_result')"
   ]
  },
  {
   "cell_type": "code",
   "execution_count": 17,
   "metadata": {},
   "outputs": [],
   "source": [
    "sess = tf.compat.v1.Session()"
   ]
  },
  {
   "cell_type": "code",
   "execution_count": 27,
   "metadata": {},
   "outputs": [
    {
     "name": "stdout",
     "output_type": "stream",
     "text": [
      "4410000\n"
     ]
    }
   ],
   "source": [
    "writer = tf.compat.v1.summary.FileWriter(\"./output\",sess.graph)\n",
    "print(sess.run(c))\n",
    "writer.close()"
   ]
  },
  {
   "cell_type": "code",
   "execution_count": null,
   "metadata": {},
   "outputs": [],
   "source": []
  }
 ],
 "metadata": {
  "kernelspec": {
   "display_name": "Python 3",
   "language": "python",
   "name": "python3"
  },
  "language_info": {
   "codemirror_mode": {
    "name": "ipython",
    "version": 3
   },
   "file_extension": ".py",
   "mimetype": "text/x-python",
   "name": "python",
   "nbconvert_exporter": "python",
   "pygments_lexer": "ipython3",
   "version": "3.5.6"
  }
 },
 "nbformat": 4,
 "nbformat_minor": 2
}
