{
 "cells": [
  {
   "cell_type": "markdown",
   "metadata": {},
   "source": [
    "# Function Overloading\n"
   ]
  },
  {
   "cell_type": "code",
   "execution_count": 1,
   "metadata": {},
   "outputs": [
    {
     "name": "stdout",
     "output_type": "stream",
     "text": [
      "100\n"
     ]
    }
   ],
   "source": [
    "# First product method. \n",
    "# Takes two argument and print their \n",
    "# product \n",
    "def product(a, b): \n",
    "\tp = a * b \n",
    "\tprint(p) \n",
    "\t\n",
    "# Second product method \n",
    "# Takes three argument and print their \n",
    "# product \n",
    "def product(a, b, c): \n",
    "\tp = a * b*c \n",
    "\tprint(p) \n",
    "\n",
    "# Uncommenting the below line shows an error\t \n",
    "# product(4, 5) \n",
    "\n",
    "# This line will call the second product method \n",
    "product(4, 5, 5) \n",
    "\n"
   ]
  },
  {
   "cell_type": "markdown",
   "metadata": {},
   "source": [
    "# MultiLevel Inheritence "
   ]
  },
  {
   "cell_type": "code",
   "execution_count": 2,
   "metadata": {},
   "outputs": [
    {
     "ename": "IndentationError",
     "evalue": "expected an indented block (<ipython-input-2-f5654f5d1d8f>, line 9)",
     "output_type": "error",
     "traceback": [
      "\u001b[0;36m  File \u001b[0;32m\"<ipython-input-2-f5654f5d1d8f>\"\u001b[0;36m, line \u001b[0;32m9\u001b[0m\n\u001b[0;31m    print('enter the following values')\u001b[0m\n\u001b[0m        ^\u001b[0m\n\u001b[0;31mIndentationError\u001b[0m\u001b[0;31m:\u001b[0m expected an indented block\n"
     ]
    }
   ],
   "source": [
    "class a:\n",
    "name=''\n",
    "age=0\n",
    "class b(a):\n",
    "height=''\n",
    "class c(b):\n",
    " weight=''\n",
    " def read(self):\n",
    " print('enter the following values')\n",
    " self.name=input('enter name:')\n",
    " self.age=eval(input('enter age'))\n",
    " self.height=eval(input('enter height'))\n",
    " self.weight=eval(input('enter weight'))\n",
    " def display(self):\n",
    " print('enter values are as follows')\n",
    " print('name', self.name)\n",
    " print('age', self.age)\n",
    " print('height', self.height)\n",
    " print('weight', self.weight)\n",
    "c1=c()\n",
    "c1.read()\n",
    "c1.display()\n"
   ]
  },
  {
   "cell_type": "markdown",
   "metadata": {},
   "source": [
    "# Add and Mulitply wid operator overloading\n"
   ]
  },
  {
   "cell_type": "code",
   "execution_count": 4,
   "metadata": {},
   "outputs": [],
   "source": [
    "class over:\n",
    "    def __init_(self,x):\n",
    "        self.x = x\n",
    "    def __add__(self,other):\n",
    "        print(\"The valuw of ob1\",self.x)\n",
    "        \n",
    "        print(\"The valuw of ob2\",other.x)\n",
    "        print(\"The addition of two object is \",end = \"\")\n",
    "        return(self.x+other.x)\n",
    "    def __multi__(self,other):\n",
    "        return(self.x * other.x)\n",
    "    \n",
    "    \n",
    " \n"
   ]
  },
  {
   "cell_type": "code",
   "execution_count": null,
   "metadata": {},
   "outputs": [],
   "source": []
  }
 ],
 "metadata": {
  "kernelspec": {
   "display_name": "Python 3",
   "language": "python",
   "name": "python3"
  },
  "language_info": {
   "codemirror_mode": {
    "name": "ipython",
    "version": 3
   },
   "file_extension": ".py",
   "mimetype": "text/x-python",
   "name": "python",
   "nbconvert_exporter": "python",
   "pygments_lexer": "ipython3",
   "version": "3.7.3"
  }
 },
 "nbformat": 4,
 "nbformat_minor": 2
}
